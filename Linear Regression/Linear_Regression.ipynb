{
  "nbformat": 4,
  "nbformat_minor": 0,
  "metadata": {
    "colab": {
      "name": "Linear_Regression.ipynb",
      "provenance": [],
      "collapsed_sections": [],
      "authorship_tag": "ABX9TyMUDbvM760/3oiOB0AM7oYX",
      "include_colab_link": true
    },
    "kernelspec": {
      "name": "python3",
      "display_name": "Python 3"
    },
    "language_info": {
      "name": "python"
    }
  },
  "cells": [
    {
      "cell_type": "markdown",
      "metadata": {
        "id": "view-in-github",
        "colab_type": "text"
      },
      "source": [
        "<a href=\"https://colab.research.google.com/github/huynhspm/Machine_Learning/blob/main/Linear%20Regression/Linear_Regression.ipynb\" target=\"_parent\"><img src=\"https://colab.research.google.com/assets/colab-badge.svg\" alt=\"Open In Colab\"/></a>"
      ]
    },
    {
      "cell_type": "code",
      "source": [
        "!git clone https://github.com/huynhspm/Machine_Learning"
      ],
      "metadata": {
        "colab": {
          "base_uri": "https://localhost:8080/"
        },
        "id": "jHtZSsmGaKnQ",
        "outputId": "8bb5c8f5-3716-4676-b5b3-406f6118244c"
      },
      "execution_count": 22,
      "outputs": [
        {
          "output_type": "stream",
          "name": "stdout",
          "text": [
            "Cloning into 'Machine_Learning'...\n",
            "remote: Enumerating objects: 32, done.\u001b[K\n",
            "remote: Counting objects: 100% (32/32), done.\u001b[K\n",
            "remote: Compressing objects: 100% (27/27), done.\u001b[K\n",
            "remote: Total 32 (delta 3), reused 29 (delta 3), pack-reused 0\u001b[K\n",
            "Unpacking objects: 100% (32/32), done.\n"
          ]
        }
      ]
    },
    {
      "cell_type": "code",
      "execution_count": null,
      "metadata": {
        "id": "fvYeI5KwU2bO"
      },
      "outputs": [],
      "source": [
        "# import lib\n",
        "import numpy as np\n",
        "import pandas as pd\n",
        "import matplotlib.pyplot as plt\n",
        "np.random.seed(0)"
      ]
    },
    {
      "cell_type": "code",
      "source": [
        "# Load data\n",
        "data = pd.read_csv('/content/Machine_Learning/Linear Regression/Linear_Regression.csv')\n",
        "\n",
        "print(data.head(5))\n",
        "\n",
        "# convert DataFrame to Numpy\n",
        "data = data.values"
      ],
      "metadata": {
        "colab": {
          "base_uri": "https://localhost:8080/"
        },
        "id": "KIEzoskPVBiK",
        "outputId": "f7c020eb-085a-4237-bc11-ebbdbe786457"
      },
      "execution_count": 23,
      "outputs": [
        {
          "output_type": "stream",
          "name": "stdout",
          "text": [
            "   Diện tích      Giá\n",
            "0    30.0000  448.524\n",
            "1    32.4138  509.248\n",
            "2    34.8276  535.104\n",
            "3    37.2414  551.432\n",
            "4    39.6552  623.418\n"
          ]
        }
      ]
    },
    {
      "cell_type": "code",
      "source": [
        "N, d = data.shape\n",
        "x = data[:, 0].reshape(-1, 1)\n",
        "y = data[:, 1].reshape(-1, 1)\n",
        "\n",
        "print(x.shape, y.shape)"
      ],
      "metadata": {
        "colab": {
          "base_uri": "https://localhost:8080/"
        },
        "id": "T3bFv1PdVSRH",
        "outputId": "29ae5bea-4181-4844-fc0d-1806a5496c47"
      },
      "execution_count": 24,
      "outputs": [
        {
          "output_type": "stream",
          "name": "stdout",
          "text": [
            "(30, 1) (30, 1)\n"
          ]
        }
      ]
    },
    {
      "cell_type": "code",
      "source": [
        "# plot data by scatter\n",
        "plt.scatter(x, y, c='red', edgecolors='none', s=30)\n",
        "plt.xlabel('Diện tích')\n",
        "plt.ylabel('Giá')"
      ],
      "metadata": {
        "colab": {
          "base_uri": "https://localhost:8080/",
          "height": 297
        },
        "id": "1r_YHSiYVZRk",
        "outputId": "cee18606-6a31-49b3-bd96-16e1b97ecb75"
      },
      "execution_count": 25,
      "outputs": [
        {
          "output_type": "execute_result",
          "data": {
            "text/plain": [
              "Text(0, 0.5, 'Giá')"
            ]
          },
          "metadata": {},
          "execution_count": 25
        },
        {
          "output_type": "display_data",
          "data": {
            "text/plain": [
              "<Figure size 432x288 with 1 Axes>"
            ],
            "image/png": "[encoded data removed]"
          },
          "metadata": {
            "needs_background": "light"
          }
        }
      ]
    },
    {
      "cell_type": "code",
      "source": [
        "# predict\n",
        "def predict(x, w):\n",
        "    return np.dot(x, w)\n",
        "\n",
        "# calculate gradient\n",
        "def grad(x, y_predict, y):\n",
        "    N = y.shape[0]\n",
        "    return np.dot(x.T, (y_predict - y)) / N\n",
        "\n",
        "# calculate loss function\n",
        "def loss(y_predict, y):\n",
        "    N = y.shape[0]\n",
        "    error = (y_predict - y) ** 2\n",
        "    return np.sum(error) / (2 * N)\n",
        "\n",
        "# rmse loss\n",
        "def RMSELoss(y_predict, y):\n",
        "    N = y.shape[0]\n",
        "    rmse = np.sum((y_predict - y) ** 2)\n",
        "    rmse = np.sqrt(rmse / N)\n",
        "    return rmse"
      ],
      "metadata": {
        "id": "Stx5LkaIWYlG"
      },
      "execution_count": 26,
      "outputs": []
    },
    {
      "cell_type": "code",
      "source": [
        "# Add a column-bias (full 1) to x\n",
        "X = np.concatenate((np.ones((N, 1)), x), axis = 1)\n",
        "\n",
        "# initial value of parameter \n",
        "w = np.random.randn(2, 1)\n",
        "\n",
        "print(X.shape)\n",
        "print(w.shape)"
      ],
      "metadata": {
        "colab": {
          "base_uri": "https://localhost:8080/"
        },
        "id": "RxOS6wGxVy73",
        "outputId": "62c5a92f-bcab-4c34-ab89-62c06f2d9db4"
      },
      "execution_count": 27,
      "outputs": [
        {
          "output_type": "stream",
          "name": "stdout",
          "text": [
            "(30, 2)\n",
            "(2, 1)\n"
          ]
        }
      ]
    },
    {
      "cell_type": "code",
      "source": [
        "# number of iteration of gradient descent\n",
        "numOfIteration = 20\n",
        "cost = []\n",
        "rmseLoss = []\n",
        "learning_rate = 0.00004\n",
        "\n",
        "for i in range(0, numOfIteration):\n",
        "    \n",
        "\t# calculate predicted value\n",
        "    y_predict = predict(X, w)\n",
        "\n",
        "    cost.append(loss(y_predict, y))\n",
        "    rmseLoss.append(RMSELoss(y_predict, y))    \n",
        "    # Apply gradient descent\n",
        "    w = w - learning_rate * grad(X, y_predict, y)"
      ],
      "metadata": {
        "id": "-EnKtRmVWT7u"
      },
      "execution_count": 28,
      "outputs": []
    },
    {
      "cell_type": "code",
      "source": [
        "# Plot fitting line\n",
        "y_predict = predict(X, w)\n",
        "\n",
        "plt.scatter(x, y)\n",
        "plt.plot(x, y_predict, c='r')"
      ],
      "metadata": {
        "colab": {
          "base_uri": "https://localhost:8080/",
          "height": 282
        },
        "id": "nPdEUK3egAmJ",
        "outputId": "09bbdc65-042c-467d-e281-4fd8eb13dc96"
      },
      "execution_count": 29,
      "outputs": [
        {
          "output_type": "execute_result",
          "data": {
            "text/plain": [
              "[<matplotlib.lines.Line2D at 0x7f21d497aad0>]"
            ]
          },
          "metadata": {},
          "execution_count": 29
        },
        {
          "output_type": "display_data",
          "data": {
            "text/plain": [
              "<Figure size 432x288 with 1 Axes>"
            ],
            "image/png": "[encoded data removed]"
          },
          "metadata": {
            "needs_background": "light"
          }
        }
      ]
    },
    {
      "cell_type": "code",
      "source": [
        "# plot loss function over iterators\n",
        "plt.plot(cost)\n",
        "plt.xlabel('epoch')\n",
        "plt.ylabel('loss')"
      ],
      "metadata": {
        "colab": {
          "base_uri": "https://localhost:8080/",
          "height": 296
        },
        "id": "M0uxNixdgEZf",
        "outputId": "955f34d8-2136-47dd-caa5-1b65ccba6cfc"
      },
      "execution_count": 30,
      "outputs": [
        {
          "output_type": "execute_result",
          "data": {
            "text/plain": [
              "Text(0, 0.5, 'loss')"
            ]
          },
          "metadata": {},
          "execution_count": 30
        },
        {
          "output_type": "display_data",
          "data": {
            "text/plain": [
              "<Figure size 432x288 with 1 Axes>"
            ],
            "image/png": "[encoded data removed]"
          },
          "metadata": {
            "needs_background": "light"
          }
        }
      ]
    },
    {
      "cell_type": "code",
      "source": [
        "# plot RMSEloss function over iterators\n",
        "plt.plot(rmseLoss)\n",
        "plt.xlabel('epoch')\n",
        "plt.ylabel('rmseLoss')"
      ],
      "metadata": {
        "colab": {
          "base_uri": "https://localhost:8080/",
          "height": 296
        },
        "id": "Bk0j9x2zSNa3",
        "outputId": "c48aa374-f336-43c1-da1d-60af3294cb6c"
      },
      "execution_count": 31,
      "outputs": [
        {
          "output_type": "execute_result",
          "data": {
            "text/plain": [
              "Text(0, 0.5, 'rmseLoss')"
            ]
          },
          "metadata": {},
          "execution_count": 31
        },
        {
          "output_type": "display_data",
          "data": {
            "text/plain": [
              "<Figure size 432x288 with 1 Axes>"
            ],
            "image/png": "[encoded data removed]"
          },
          "metadata": {
            "needs_background": "light"
          }
        }
      ]
    }
  ]
}