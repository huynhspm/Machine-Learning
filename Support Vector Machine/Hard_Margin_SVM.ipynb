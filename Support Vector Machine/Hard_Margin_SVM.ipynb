{
  "cells": [
    {
      "cell_type": "markdown",
      "metadata": {
        "id": "view-in-github",
        "colab_type": "text"
      },
      "source": [
        "<a href=\"https://colab.research.google.com/github/huynhspm/Basic_ML/blob/main/Support%20Vector%20Machine/Hard_Margin_SVM.ipynb\" target=\"_parent\"><img src=\"https://colab.research.google.com/assets/colab-badge.svg\" alt=\"Open In Colab\"/></a>"
      ]
    },
    {
      "cell_type": "code",
      "execution_count": 1,
      "id": "52b10628",
      "metadata": {
        "id": "52b10628"
      },
      "outputs": [],
      "source": [
        "# Hai classes là linearly separable"
      ]
    },
    {
      "cell_type": "code",
      "execution_count": 2,
      "id": "311d247b",
      "metadata": {
        "id": "311d247b"
      },
      "outputs": [],
      "source": [
        "import numpy as np \n",
        "import matplotlib.pyplot as plt\n",
        "from sklearn.svm import SVC\n",
        "\n",
        "np.random.seed(2)"
      ]
    },
    {
      "cell_type": "code",
      "execution_count": 3,
      "id": "aeb999a4",
      "metadata": {
        "id": "aeb999a4"
      },
      "outputs": [],
      "source": [
        "def visualize_data(X, y):\n",
        "    X0 = X[y == -1, :]\n",
        "    X1 = X[y == 1, :]\n",
        "    \n",
        "    plt.plot(X0[:, 0], X0[:, 1], 'g^', markersize = 7)\n",
        "    plt.plot(X1[:, 0], X1[:, 1], 'bs', markersize = 7)\n",
        "    plt.axis([0.5, 5.5, 0.5, 3.5])\n",
        "    plt.xlabel('x1')\n",
        "    plt.ylabel('x2')"
      ]
    },
    {
      "cell_type": "code",
      "execution_count": 4,
      "id": "f39ccd24",
      "metadata": {
        "id": "f39ccd24",
        "outputId": "da0a8c5e-1740-4ec1-ae0b-ee9fe9b01614",
        "colab": {
          "base_uri": "https://localhost:8080/",
          "height": 283
        }
      },
      "outputs": [
        {
          "output_type": "display_data",
          "data": {
            "text/plain": [
              "<Figure size 432x288 with 1 Axes>"
            ],
            "image/png": "[encoded data removed]"
          },
          "metadata": {
            "needs_background": "light"
          }
        }
      ],
      "source": [
        "means = [[2, 2], [4, 2]]\n",
        "cov = [[.3, .2], [.2, .3]]\n",
        "m = 20  # number of points per class\n",
        "X0 = np.random.multivariate_normal(means[0], cov, m) # class -1 \n",
        "X1 = np.random.multivariate_normal(means[1], cov, m) # class 1 \n",
        "\n",
        "X = np.concatenate((X0, X1), axis = 0) # all data\n",
        "y = np.array([-1] * m + [1] * m) # labels \n",
        "visualize_data(X, y)"
      ]
    },
    {
      "cell_type": "code",
      "execution_count": 5,
      "id": "d742eb9d",
      "metadata": {
        "id": "d742eb9d",
        "outputId": "f8e1a297-3d81-43d0-ca41-03403d93de6d",
        "colab": {
          "base_uri": "https://localhost:8080/"
        }
      },
      "outputs": [
        {
          "output_type": "execute_result",
          "data": {
            "text/plain": [
              "SVC(C=100000.0, kernel='linear')"
            ]
          },
          "metadata": {},
          "execution_count": 5
        }
      ],
      "source": [
        "model = SVC(kernel = 'linear', C = 1e5)\n",
        "model.fit(X, y)"
      ]
    },
    {
      "cell_type": "code",
      "execution_count": 6,
      "id": "f8166bfa",
      "metadata": {
        "id": "f8166bfa"
      },
      "outputs": [],
      "source": [
        "def visualize_boundary(model):\n",
        "    w = model.coef_\n",
        "    b = model.intercept_\n",
        "\n",
        "    x1 = np.arange(1, 6, 1)\n",
        "    y1 = -w[0, 0]/w[0, 1]*x1 - b/w[0, 1]\n",
        "    y2 = -w[0, 0]/w[0, 1]*x1 - (b-1)/w[0, 1]\n",
        "    y3 = -w[0, 0]/w[0, 1]*x1 - (b+1)/w[0, 1]\n",
        "    plt.plot(x1, y1, 'k', linewidth = 3)\n",
        "    plt.plot(x1, y2, 'k')\n",
        "    plt.plot(x1, y3, 'k')\n",
        "\n",
        "def show_result(model, X, y):\n",
        "    visualize_data(X, y)\n",
        "    visualize_boundary(model)"
      ]
    },
    {
      "cell_type": "code",
      "execution_count": 7,
      "id": "3ad16f5b",
      "metadata": {
        "id": "3ad16f5b",
        "outputId": "bae135cf-7230-415c-f41a-5e9efb109903",
        "colab": {
          "base_uri": "https://localhost:8080/",
          "height": 318
        }
      },
      "outputs": [
        {
          "output_type": "stream",
          "name": "stdout",
          "text": [
            "w =  [[ 2.22038519 -1.69622905]]\n",
            "b =  [-3.25564019]\n"
          ]
        },
        {
          "output_type": "display_data",
          "data": {
            "text/plain": [
              "<Figure size 432x288 with 1 Axes>"
            ],
            "image/png": "[encoded data removed]"
          },
          "metadata": {
            "needs_background": "light"
          }
        }
      ],
      "source": [
        "print('w = ', model.coef_)\n",
        "print('b = ', model.intercept_)\n",
        "show_result(model, X, y)"
      ]
    },
    {
      "cell_type": "code",
      "execution_count": 7,
      "id": "adea6acb",
      "metadata": {
        "id": "adea6acb"
      },
      "outputs": [],
      "source": [
        ""
      ]
    }
  ],
  "metadata": {
    "kernelspec": {
      "display_name": "Python 3 (ipykernel)",
      "language": "python",
      "name": "python3"
    },
    "language_info": {
      "codemirror_mode": {
        "name": "ipython",
        "version": 3
      },
      "file_extension": ".py",
      "mimetype": "text/x-python",
      "name": "python",
      "nbconvert_exporter": "python",
      "pygments_lexer": "ipython3",
      "version": "3.10.1"
    },
    "colab": {
      "name": "Hard_Margin_SVM.ipynb",
      "provenance": [],
      "toc_visible": true,
      "include_colab_link": true
    }
  },
  "nbformat": 4,
  "nbformat_minor": 5
}