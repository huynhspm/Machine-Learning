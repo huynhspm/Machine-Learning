{
  "cells": [
    {
      "cell_type": "markdown",
      "metadata": {
        "id": "view-in-github",
        "colab_type": "text"
      },
      "source": [
        "<a href=\"https://colab.research.google.com/github/huynhspm/Basic_ML/blob/main/Support%20Vector%20Machine/Soft_Margin_SVM.ipynb\" target=\"_parent\"><img src=\"https://colab.research.google.com/assets/colab-badge.svg\" alt=\"Open In Colab\"/></a>"
      ]
    },
    {
      "cell_type": "code",
      "execution_count": 1,
      "id": "06523a2d",
      "metadata": {
        "id": "06523a2d"
      },
      "outputs": [],
      "source": [
        "# Hai classes là gần linearly separable"
      ]
    },
    {
      "cell_type": "code",
      "execution_count": 2,
      "id": "6b681e3e",
      "metadata": {
        "id": "6b681e3e"
      },
      "outputs": [],
      "source": [
        "import numpy as np \n",
        "import matplotlib.pyplot as plt\n",
        "from sklearn.svm import SVC\n",
        "\n",
        "np.random.seed(22)"
      ]
    },
    {
      "cell_type": "code",
      "execution_count": 3,
      "id": "42fdb07a",
      "metadata": {
        "id": "42fdb07a"
      },
      "outputs": [],
      "source": [
        "def visualize_data(X, y):\n",
        "    X0 = X[y == -1, :]\n",
        "    X1 = X[y == 1, :]\n",
        "\n",
        "    plt.plot(X0[:, 0], X0[:, 1], 'bs', markersize = 7)\n",
        "    plt.plot(X1[:, 0], X1[:, 1], 'g^', markersize = 7)\n",
        "    plt.axis([0, 6, 0, 5])\n",
        "    plt.xlabel('x1')\n",
        "    plt.ylabel('x2')"
      ]
    },
    {
      "cell_type": "code",
      "execution_count": 4,
      "id": "0182133e",
      "metadata": {
        "id": "0182133e",
        "outputId": "a1af69ac-1a9b-4426-86b6-5080a8504ef7",
        "colab": {
          "base_uri": "https://localhost:8080/",
          "height": 283
        }
      },
      "outputs": [
        {
          "output_type": "display_data",
          "data": {
            "text/plain": [
              "<Figure size 432x288 with 1 Axes>"
            ],
            "image/png": "[encoded data removed]"
          },
          "metadata": {
            "needs_background": "light"
          }
        }
      ],
      "source": [
        "means = [[2, 2], [4, 2]]\n",
        "cov = [[.7, 0], [0, .7]]\n",
        "m = 20  # number of points per class\n",
        "X0 = np.random.multivariate_normal(means[0], cov, m) # class -1\n",
        "X1 = np.random.multivariate_normal(means[1], cov, m) # class 1 \n",
        "X1[-1, :] = [2.7, 2]\n",
        "X = np.concatenate((X0, X1), axis = 0)  # all data \n",
        "y = np.array([-1] * m + [1] * m) # labels \n",
        "visualize_data(X, y)"
      ]
    },
    {
      "cell_type": "code",
      "execution_count": 5,
      "id": "7eb2b339",
      "metadata": {
        "id": "7eb2b339",
        "outputId": "0a4bc6a9-470d-42fa-ac77-10ca3bcca113",
        "colab": {
          "base_uri": "https://localhost:8080/"
        }
      },
      "outputs": [
        {
          "output_type": "execute_result",
          "data": {
            "text/plain": [
              "SVC(C=100, kernel='linear')"
            ]
          },
          "metadata": {},
          "execution_count": 5
        }
      ],
      "source": [
        "model = SVC(kernel = 'linear', C = 100)\n",
        "model.fit(X, y)"
      ]
    },
    {
      "cell_type": "code",
      "execution_count": 6,
      "id": "cc8d359e",
      "metadata": {
        "id": "cc8d359e"
      },
      "outputs": [],
      "source": [
        "def visualize_boundary(model):\n",
        "    w = model.coef_\n",
        "    b = model.intercept_\n",
        "\n",
        "    x1 = np.arange(1, 6, 1)\n",
        "    y1 = -w[0, 0]/w[0, 1]*x1 - b/w[0, 1]\n",
        "    y2 = -w[0, 0]/w[0, 1]*x1 - (b-1)/w[0, 1]\n",
        "    y3 = -w[0, 0]/w[0, 1]*x1 - (b+1)/w[0, 1]\n",
        "    plt.plot(x1, y1, 'k', linewidth = 3)\n",
        "    plt.plot(x1, y2, 'k')\n",
        "    plt.plot(x1, y3, 'k')\n",
        "\n",
        "def show_result(model, X, y):\n",
        "    visualize_data(X, y)\n",
        "    visualize_boundary(model)"
      ]
    },
    {
      "cell_type": "code",
      "execution_count": 7,
      "id": "ab9e273c",
      "metadata": {
        "id": "ab9e273c",
        "outputId": "ddfd0f31-1c46-4d33-e045-420bf477a90b",
        "colab": {
          "base_uri": "https://localhost:8080/",
          "height": 318
        }
      },
      "outputs": [
        {
          "output_type": "stream",
          "name": "stdout",
          "text": [
            "w =  [[1.87348162 1.81940233]]\n",
            "b =  [-8.51284119]\n"
          ]
        },
        {
          "output_type": "display_data",
          "data": {
            "text/plain": [
              "<Figure size 432x288 with 1 Axes>"
            ],
            "image/png": "[encoded data removed]"
          },
          "metadata": {
            "needs_background": "light"
          }
        }
      ],
      "source": [
        "print('w = ', model.coef_)\n",
        "print('b = ', model.intercept_)\n",
        "show_result(model, X, y)"
      ]
    },
    {
      "cell_type": "code",
      "execution_count": 7,
      "id": "5a4acf78",
      "metadata": {
        "id": "5a4acf78"
      },
      "outputs": [],
      "source": [
        ""
      ]
    }
  ],
  "metadata": {
    "kernelspec": {
      "display_name": "Python 3 (ipykernel)",
      "language": "python",
      "name": "python3"
    },
    "language_info": {
      "codemirror_mode": {
        "name": "ipython",
        "version": 3
      },
      "file_extension": ".py",
      "mimetype": "text/x-python",
      "name": "python",
      "nbconvert_exporter": "python",
      "pygments_lexer": "ipython3",
      "version": "3.10.1"
    },
    "colab": {
      "name": "Soft_Margin_SVM.ipynb",
      "provenance": [],
      "toc_visible": true,
      "include_colab_link": true
    }
  },
  "nbformat": 4,
  "nbformat_minor": 5
}