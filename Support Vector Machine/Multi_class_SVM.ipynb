{
  "cells": [
    {
      "cell_type": "markdown",
      "metadata": {
        "id": "view-in-github",
        "colab_type": "text"
      },
      "source": [
        "<a href=\"https://colab.research.google.com/github/huynhspm/Basic_ML/blob/main/Support%20Vector%20Machine/Multi_class_SVM.ipynb\" target=\"_parent\"><img src=\"https://colab.research.google.com/assets/colab-badge.svg\" alt=\"Open In Colab\"/></a>"
      ]
    },
    {
      "cell_type": "code",
      "execution_count": 1,
      "id": "bcbbab12",
      "metadata": {
        "id": "bcbbab12"
      },
      "outputs": [],
      "source": [
        "# Bài toán phân loại nhiều classes (biên là tuyến tính)"
      ]
    },
    {
      "cell_type": "code",
      "execution_count": 2,
      "id": "edc4f51b",
      "metadata": {
        "id": "edc4f51b"
      },
      "outputs": [],
      "source": [
        "import numpy as np\n",
        "import matplotlib.pyplot as plt\n",
        "from sklearn.svm import SVC\n",
        "\n",
        "np.random.seed(4)"
      ]
    },
    {
      "cell_type": "code",
      "execution_count": 3,
      "id": "37d1ee68",
      "metadata": {
        "id": "37d1ee68"
      },
      "outputs": [],
      "source": [
        "def visualize_data(X, y):\n",
        "    X0 = X[y == 0, :]\n",
        "    X1 = X[y == 1, :]\n",
        "    X2 = X[y == 2, :]\n",
        "\n",
        "    plt.plot(X0[:, 0], X0[:, 1], 'bs', markersize = 7)\n",
        "    plt.plot(X1[:, 0], X1[:, 1], 'g^', markersize = 7)\n",
        "    plt.plot(X2[:, 0], X2[:, 1], 'ro', markersize = 7)"
      ]
    },
    {
      "cell_type": "code",
      "execution_count": 4,
      "id": "9099d66d",
      "metadata": {
        "id": "9099d66d",
        "outputId": "92a6ed6b-32c2-44bf-a59d-5fb7e220e390",
        "colab": {
          "base_uri": "https://localhost:8080/",
          "height": 265
        }
      },
      "outputs": [
        {
          "output_type": "display_data",
          "data": {
            "text/plain": [
              "<Figure size 432x288 with 1 Axes>"
            ],
            "image/png": "[encoded data removed]"
          },
          "metadata": {
            "needs_background": "light"
          }
        }
      ],
      "source": [
        "N = 20\n",
        "means = [[-1, -1], [1, -1], [0, 1]]\n",
        "cov = [[1, 0], [0, 1]]\n",
        "X0 = np.random.multivariate_normal(means[0], cov, N)\n",
        "X1 = np.random.multivariate_normal(means[1], cov, N)\n",
        "X2 = np.random.multivariate_normal(means[2], cov, N)\n",
        "X = np.concatenate((X0, X1, X2), axis = 0)\n",
        "y = np.array([0]*N + [1]*N + [2]*N)\n",
        "\n",
        "visualize_data(X, y)"
      ]
    },
    {
      "cell_type": "code",
      "execution_count": 5,
      "id": "48fe66e9",
      "metadata": {
        "id": "48fe66e9",
        "outputId": "a10112a0-c252-4fd1-ba17-ad5c8529a875",
        "colab": {
          "base_uri": "https://localhost:8080/"
        }
      },
      "outputs": [
        {
          "output_type": "execute_result",
          "data": {
            "text/plain": [
              "SVC(coef0=1, gamma=20, kernel='linear')"
            ]
          },
          "metadata": {},
          "execution_count": 5
        }
      ],
      "source": [
        "model = SVC(kernel='linear', gamma=20, coef0 = 1)\n",
        "model.fit(X, y)"
      ]
    },
    {
      "cell_type": "code",
      "execution_count": 6,
      "id": "c3ca3507",
      "metadata": {
        "id": "c3ca3507"
      },
      "outputs": [],
      "source": [
        "def visualize_boundary(model):\n",
        "    x1 = np.arange(-4, 4, 0.025)\n",
        "    x2 = np.arange(-4, 4, 0.025)\n",
        "    x1, x2 = np.meshgrid(x1, x2)\n",
        "    \n",
        "    xx1 = x1.ravel().reshape(x1.size, 1)\n",
        "    xx2 = x2.ravel().reshape(x2.size, 1)\n",
        "    \n",
        "    X = np.concatenate((xx1, xx2), axis = 1)\n",
        "    y = model.predict(X)\n",
        "    y = y.reshape(x1.shape)\n",
        "    plt.contourf(x1, x2, y, 200, cmap='jet', alpha = .1)\n",
        "\n",
        "def display_result(model, X, y):\n",
        "    visualize_data(X, y)\n",
        "    visualize_boundary(model)"
      ]
    },
    {
      "cell_type": "code",
      "execution_count": 7,
      "id": "ceb8bf8a",
      "metadata": {
        "id": "ceb8bf8a",
        "outputId": "b058006a-4d54-4d76-d8d2-bf4087b56180",
        "colab": {
          "base_uri": "https://localhost:8080/",
          "height": 265
        }
      },
      "outputs": [
        {
          "output_type": "display_data",
          "data": {
            "text/plain": [
              "<Figure size 432x288 with 1 Axes>"
            ],
            "image/png": "[encoded data removed]"
          },
          "metadata": {
            "needs_background": "light"
          }
        }
      ],
      "source": [
        "display_result(model, X, y)"
      ]
    },
    {
      "cell_type": "code",
      "execution_count": 7,
      "id": "755e8dfb",
      "metadata": {
        "id": "755e8dfb"
      },
      "outputs": [],
      "source": [
        ""
      ]
    }
  ],
  "metadata": {
    "kernelspec": {
      "display_name": "Python 3 (ipykernel)",
      "language": "python",
      "name": "python3"
    },
    "language_info": {
      "codemirror_mode": {
        "name": "ipython",
        "version": 3
      },
      "file_extension": ".py",
      "mimetype": "text/x-python",
      "name": "python",
      "nbconvert_exporter": "python",
      "pygments_lexer": "ipython3",
      "version": "3.10.1"
    },
    "colab": {
      "name": "Multi-class_SVM.ipynb",
      "provenance": [],
      "toc_visible": true,
      "include_colab_link": true
    }
  },
  "nbformat": 4,
  "nbformat_minor": 5
}