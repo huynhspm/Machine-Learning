{
  "nbformat": 4,
  "nbformat_minor": 0,
  "metadata": {
    "colab": {
      "name": "Softmax_Regression.ipynb",
      "provenance": [],
      "collapsed_sections": [],
      "toc_visible": true,
      "authorship_tag": "ABX9TyPYQaF/97XZTqQkJPXfvlVu",
      "include_colab_link": true
    },
    "kernelspec": {
      "name": "python3",
      "display_name": "Python 3"
    },
    "language_info": {
      "name": "python"
    }
  },
  "cells": [
    {
      "cell_type": "markdown",
      "metadata": {
        "id": "view-in-github",
        "colab_type": "text"
      },
      "source": [
        "<a href=\"https://colab.research.google.com/github/huynhspm/Machine_Learning/blob/main/Softmax%20Regression/Softmax_Regression.ipynb\" target=\"_parent\"><img src=\"https://colab.research.google.com/assets/colab-badge.svg\" alt=\"Open In Colab\"/></a>"
      ]
    },
    {
      "cell_type": "code",
      "execution_count": 47,
      "metadata": {
        "id": "q8_a5-iZGo4-"
      },
      "outputs": [],
      "source": [
        "# import lib\n",
        "import numpy as np\n",
        "import matplotlib.pyplot as plt\n",
        "from scipy import sparse \n",
        "from sklearn.linear_model import LogisticRegression \n",
        "\n",
        "np.random.seed(4)"
      ]
    },
    {
      "cell_type": "code",
      "source": [
        "def convert_labels(y: np, C: int):\n",
        "    \"\"\"\n",
        "    convert 1d label to a matrix label: each column of this \n",
        "    matrix coresponding to 1 element in y. In i-th column of Y, \n",
        "    only one non-zeros element located in the y[i]-th position, \n",
        "    and = 1 ex: y = [0, 2, 1, 0], and 3 classes then return\n",
        "\n",
        "            [[1, 0, 0, 1],\n",
        "             [0, 0, 1, 0],\n",
        "             [0, 1, 0, 0]]\n",
        "    \"\"\"\n",
        "    Y = sparse.coo_matrix((np.ones_like(y), \n",
        "        (y, np.arange(len(y)))), shape = (C, len(y))).toarray()\n",
        "    return Y"
      ],
      "metadata": {
        "id": "oycRMQqMUx_b"
      },
      "execution_count": 48,
      "outputs": []
    },
    {
      "cell_type": "code",
      "source": [
        "# function to plot data points\n",
        "def visualize_data(x, y):\n",
        "    x0 = x[:, y == 0]\n",
        "    x1 = x[:, y == 1]\n",
        "    x2 = x[:, y == 2]\n",
        "\n",
        "    plt.plot(x0[0, :], x0[1, :], 'bs', markersize = 5)\n",
        "    plt.plot(x1[0, :], x1[1, :], 'g^', markersize = 5)\n",
        "    plt.plot(x2[0, :], x2[1, :], 'ro', markersize = 5)"
      ],
      "metadata": {
        "id": "ytQPFyr-TXBO"
      },
      "execution_count": 49,
      "outputs": []
    },
    {
      "cell_type": "code",
      "source": [
        "N = 50  # number of training sample\n",
        "C = 3   # number of classes \n",
        "\n",
        "means = [[-1, -1], [1, -1], [0, 1]]\n",
        "cov = [[1, 0], [0, 1]]\n",
        "\n",
        "x0 = np.random.multivariate_normal(means[0], cov, N)\n",
        "x1 = np.random.multivariate_normal(means[1], cov, N)\n",
        "x2 = np.random.multivariate_normal(means[2], cov, N)\n",
        "x = np.concatenate((x0, x1, x2), axis = 0).T    # all data\n",
        "y = np.array([0]*N + [1]*N + [2]*N)             # labels \n",
        "\n",
        "visualize_data(x, y) # plot data\n"
      ],
      "metadata": {
        "colab": {
          "base_uri": "https://localhost:8080/",
          "height": 265
        },
        "id": "aPyVMfvfTaoH",
        "outputId": "1d4af67c-3514-42a6-e789-1a607a4542f8"
      },
      "execution_count": 50,
      "outputs": [
        {
          "output_type": "display_data",
          "data": {
            "text/plain": [
              "<Figure size 432x288 with 1 Axes>"
            ],
            "image/png": "[encoded data removed]"
          },
          "metadata": {
            "needs_background": "light"
          }
        }
      ]
    },
    {
      "cell_type": "code",
      "source": [
        "def softmax(Z):\n",
        "    \"\"\"\n",
        "    Compute softmax values for each sets of scores in V.\n",
        "    each column of V is a set of score.    \n",
        "    \"\"\"\n",
        "    e_Z = np.exp(Z)\n",
        "    A = e_Z / e_Z.sum(axis = 0)\n",
        "    return A\n",
        "\n",
        "def softmax_stable(Z):\n",
        "    \"\"\"\n",
        "    Compute softmax values for each sets of scores in V.\n",
        "    each column of V is a set of score.    \n",
        "    \"\"\"\n",
        "    e_Z = np.exp(Z - np.max(Z, axis = 0, keepdims = True))\n",
        "    A = e_Z / e_Z.sum(axis = 0)\n",
        "    return A\n",
        "\n",
        "def loss(X, Y, W):\n",
        "    A = softmax(W.T.dot(X))\n",
        "    return -np.sum(Y*np.log(A))\n",
        "\n",
        "def predict(W, X):\n",
        "    \"\"\"\n",
        "    predict output of each columns of X\n",
        "    Class of each x_i is determined by location of max probability\n",
        "    Note that class are indexed by [0, 1, 2, ...., C-1]\n",
        "    \"\"\"\n",
        "    A = softmax_stable(W.T.dot(X))\n",
        "    return np.argmax(A, axis = 0)\n",
        "\n",
        "# function to calculate gradient\n",
        "def grad(X, Y, W):\n",
        "    A = softmax((W.T.dot(X)))\n",
        "    E = A - Y\n",
        "    return X.dot(E.T)\n",
        "\n",
        "# check grad\n",
        "def numerical_grad(X, Y, W, cost):\n",
        "    eps = 1e-6\n",
        "    g = np.zeros_like(W)\n",
        "    for i in range(W.shape[0]):\n",
        "        for j in range(W.shape[1]):\n",
        "            W_p = W.copy()\n",
        "            W_n = W.copy()\n",
        "            W_p[i, j] += eps \n",
        "            W_n[i, j] -= eps\n",
        "            g[i,j] = (cost(X, Y, W_p) - cost(X, Y, W_n))/(2*eps)\n",
        "    return g "
      ],
      "metadata": {
        "id": "pBqTxThUTk2R"
      },
      "execution_count": 51,
      "outputs": []
    },
    {
      "cell_type": "code",
      "source": [
        "# Add a column-bias (full 1) to x\n",
        "X = np.concatenate((np.ones((1, 3*N)), x), axis = 0)\n",
        "print(X.shape)\n",
        "\n",
        "d = X.shape[0]\n",
        "\n",
        "# coefficient for learning rate\n",
        "eta = .05 \n",
        "\n",
        "# initial value of parameter \n",
        "W_init = np.random.randn(d, C)"
      ],
      "metadata": {
        "colab": {
          "base_uri": "https://localhost:8080/"
        },
        "id": "_FgbR8aWXkt3",
        "outputId": "f1cccd9a-4c1c-4df3-92e4-55e743d08ebb"
      },
      "execution_count": 52,
      "outputs": [
        {
          "output_type": "stream",
          "name": "stdout",
          "text": [
            "(3, 150)\n"
          ]
        }
      ]
    },
    {
      "cell_type": "code",
      "source": [
        "# function to train model \n",
        "def softmax_regression(X, y, W_init, eta, tol = 1e-4, max_count = 200):\n",
        "    W = [W_init]    \n",
        "    Y = convert_labels(y, C)\n",
        "    it = 0\n",
        "    d = X.shape[0]\n",
        "    N = X.shape[1]\n",
        "    count = 0\n",
        "    check_w_after = 20\n",
        "    error = []\n",
        "\n",
        "    while count < max_count:\n",
        "        # mix data \n",
        "        mix_id = np.random.permutation(N)\n",
        "        \n",
        "        for i in mix_id:\n",
        "            xi = X[:, i].reshape(d, 1)\n",
        "            yi = Y[:, i].reshape(C, 1)\n",
        "\n",
        "            # predict \n",
        "            ai = softmax(np.dot(W[-1].T, xi))\n",
        "\n",
        "            # calculate loss\n",
        "            error.append(loss(X, Y, W[-1]))\n",
        "\n",
        "            # gradient descent\n",
        "            W_new = W[-1] + eta*xi.dot((yi - ai).T)\n",
        "            count += 1\n",
        "\n",
        "            # stopping criteria\n",
        "            if count%check_w_after == 0:                \n",
        "                if np.linalg.norm(W_new - W[-check_w_after]) < tol:\n",
        "                    return W\n",
        "            W.append(W_new)\n",
        "    return W, error\n",
        "\n",
        "W, error = softmax_regression(X, y, W_init, eta)"
      ],
      "metadata": {
        "id": "a6Wc28muT-95"
      },
      "execution_count": 53,
      "outputs": []
    },
    {
      "cell_type": "code",
      "source": [
        "# function to plot boundary of three classes\n",
        "def visualize_boundary(W):\n",
        "    x1 = np.arange(-5, 5, 0.025)\n",
        "    x2 = np.arange(-5, 5, 0.025)\n",
        "    x1, x2 = np.meshgrid(x1, x2)\n",
        "    \n",
        "    xx1 = x1.ravel().reshape(x1.size, 1)\n",
        "    xx2 = x2.ravel().reshape(x2.size, 1)\n",
        "    \n",
        "    x = np.concatenate((xx1, xx2), axis = 1).T\n",
        "    X = np.concatenate((np.ones((1, x.shape[1])), x), axis = 0)\n",
        "                       \n",
        "    y = predict(W, X)\n",
        "\n",
        "    y = y.reshape(x1.shape)\n",
        "    plt.contourf(x1, x2, y, 200, cmap='jet', alpha = .1)\n",
        "\n",
        "def display_result(W, x, y):\n",
        "    visualize_data(x, y)\n",
        "    visualize_boundary(W)"
      ],
      "metadata": {
        "id": "tsTE_doGTcmT"
      },
      "execution_count": 54,
      "outputs": []
    },
    {
      "cell_type": "code",
      "source": [
        "print(W[-1])\n",
        "display_result(W[-1], x, y) # show result"
      ],
      "metadata": {
        "colab": {
          "base_uri": "https://localhost:8080/",
          "height": 317
        },
        "id": "IqXL41beTeUF",
        "outputId": "4c47a9be-d186-4b89-d1cb-29640ad97b75"
      },
      "execution_count": 55,
      "outputs": [
        {
          "output_type": "stream",
          "name": "stdout",
          "text": [
            "[[ 0.45436568 -0.33530436  0.4959946 ]\n",
            " [-0.18260412  1.65144     1.17541173]\n",
            " [ 0.68822599  0.58887211  2.76047054]]\n"
          ]
        },
        {
          "output_type": "display_data",
          "data": {
            "text/plain": [
              "<Figure size 432x288 with 1 Axes>"
            ],
            "image/png": "[encoded data removed]"
          },
          "metadata": {
            "needs_background": "light"
          }
        }
      ]
    },
    {
      "cell_type": "code",
      "source": [
        "# plot loss function over iterators\n",
        "plt.plot(error)\n",
        "plt.xlabel('epoch')\n",
        "plt.ylabel('rmseLoss')"
      ],
      "metadata": {
        "colab": {
          "base_uri": "https://localhost:8080/",
          "height": 296
        },
        "id": "74FAU97Tka0v",
        "outputId": "0e7dc637-401f-4341-8615-c608ab09fea6"
      },
      "execution_count": 56,
      "outputs": [
        {
          "output_type": "execute_result",
          "data": {
            "text/plain": [
              "Text(0, 0.5, 'rmseLoss')"
            ]
          },
          "metadata": {},
          "execution_count": 56
        },
        {
          "output_type": "display_data",
          "data": {
            "text/plain": [
              "<Figure size 432x288 with 1 Axes>"
            ],
            "image/png": "[encoded data removed]"
          },
          "metadata": {
            "needs_background": "light"
          }
        }
      ]
    }
  ]
}