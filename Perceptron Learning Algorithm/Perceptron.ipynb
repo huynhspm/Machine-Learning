{
  "nbformat": 4,
  "nbformat_minor": 0,
  "metadata": {
    "colab": {
      "name": "Perceptron.ipynb",
      "provenance": [],
      "toc_visible": true,
      "authorship_tag": "ABX9TyNJL/QoW4ES01QIaD49A1m/",
      "include_colab_link": true
    },
    "kernelspec": {
      "name": "python3",
      "display_name": "Python 3"
    },
    "language_info": {
      "name": "python"
    }
  },
  "cells": [
    {
      "cell_type": "markdown",
      "metadata": {
        "id": "view-in-github",
        "colab_type": "text"
      },
      "source": [
        "<a href=\"https://colab.research.google.com/github/huynhspm/Machine_Learning/blob/main/Perceptron%20Learning%20Algorithm/Perceptron.ipynb\" target=\"_parent\"><img src=\"https://colab.research.google.com/assets/colab-badge.svg\" alt=\"Open In Colab\"/></a>"
      ]
    },
    {
      "cell_type": "code",
      "execution_count": 1,
      "metadata": {
        "id": "_nHbaDZXHBQx"
      },
      "outputs": [],
      "source": [
        "# import lib\n",
        "import numpy as np\n",
        "import matplotlib.pyplot as plt\n",
        "from sklearn.linear_model import LogisticRegression \n",
        "\n",
        "np.random.seed(2)"
      ]
    },
    {
      "cell_type": "code",
      "source": [
        "# function to plot data points\n",
        "def visualize_data(x, y):\n",
        "    x0 = x[y[:, 0] == -1, :]\n",
        "    x1 = x[y[:, 0] == 1, :]\n",
        "    \n",
        "    plt.plot(x0[:, 0], x0[:, 1], 'g^', markersize = 7)\n",
        "    plt.plot(x1[:, 0], x1[:, 1], 'bs', markersize = 7)\n",
        "    plt.axis([0, 6, 0, 4])\n",
        "    plt.xlabel('x1')\n",
        "    plt.ylabel('x2')"
      ],
      "metadata": {
        "id": "Bf-rzZX_HD-l"
      },
      "execution_count": 2,
      "outputs": []
    },
    {
      "cell_type": "code",
      "source": [
        "means = [[2, 2], [4, 2]]\n",
        "cov = [[.3, .2], [.2, .3]]\n",
        "m = 20  # number of points per class\n",
        "x0 = np.random.multivariate_normal(means[0], cov, m) # class -1 \n",
        "x1 = np.random.multivariate_normal(means[1], cov, m) # class 1 \n",
        "\n",
        "x = np.concatenate((x0, x1), axis = 0) # all data\n",
        "y = np.concatenate((np.ones((m, 1)), -1*np.ones((m, 1))), axis = 0) # labels \n",
        "visualize_data(x, y) # plot data"
      ],
      "metadata": {
        "colab": {
          "base_uri": "https://localhost:8080/",
          "height": 283
        },
        "id": "hfTvKqH6HEHW",
        "outputId": "c8ad78da-8e55-4da4-9654-463eb7a7ff99"
      },
      "execution_count": 3,
      "outputs": [
        {
          "output_type": "display_data",
          "data": {
            "text/plain": [
              "<Figure size 432x288 with 1 Axes>"
            ],
            "image/png": "[encoded data removed]"
          },
          "metadata": {
            "needs_background": "light"
          }
        }
      ]
    },
    {
      "cell_type": "code",
      "source": [
        "# predict label\n",
        "def predict(w, x):    \n",
        "    return np.sign(np.dot(x, w))\n",
        "\n",
        "# check if the algorithm has converged\n",
        "def has_converged(x, y, w):    \n",
        "    return np.array_equal(predict(w, x), y) "
      ],
      "metadata": {
        "id": "ZwCXRLBqIt5I"
      },
      "execution_count": 4,
      "outputs": []
    },
    {
      "cell_type": "code",
      "source": [
        "# Add a column-bias (full 1) to x\n",
        "X = np.concatenate((np.ones((2*m, 1)), x), axis = 1)\n",
        "\n",
        "N = X.shape[0]\n",
        "d = X.shape[1]\n",
        "mis_points = []\n",
        "cost = []\n",
        "\n",
        "# initial value of parameter \n",
        "w = np.random.randn(d, 1)\n",
        "\n",
        "print(X.shape, y.shape, w.shape)"
      ],
      "metadata": {
        "colab": {
          "base_uri": "https://localhost:8080/"
        },
        "id": "MjK12uv_HEL5",
        "outputId": "97c8a9d4-4c45-4cec-d78f-de451c5f5dea"
      },
      "execution_count": 5,
      "outputs": [
        {
          "output_type": "stream",
          "name": "stdout",
          "text": [
            "(40, 3) (40, 1) (3, 1)\n"
          ]
        }
      ]
    },
    {
      "cell_type": "code",
      "source": [
        "while True:\n",
        "    mix_id = np.random.permutation(N)     # mix data \n",
        "    for i in range(N):\n",
        "        xi = X[mix_id[i], :].reshape(1, d)\n",
        "        yi = y[mix_id[i]]\n",
        "\n",
        "        if predict(w, xi)[0] != yi: # misclassified point\n",
        "            w = w + yi*xi.T         # Gradient descent \n",
        "\n",
        "    if has_converged(X, y, w):      # check if the algorithm has converged\n",
        "        break"
      ],
      "metadata": {
        "id": "VZGScCAvIyzB"
      },
      "execution_count": 6,
      "outputs": []
    },
    {
      "cell_type": "code",
      "source": [
        "# function to plot boundary of two classes\n",
        "def visualize_boundary(w):   \n",
        "    print(w.shape) \n",
        "    x = np.arange(1, 6, 1)\n",
        "    y = -(w[0, 0] + w[1, 0]*x)/w[2, 0]\n",
        "    plt.plot(x, y, linewidth = 3)\n",
        "    \n",
        "def display_result(w, x, y):\n",
        "    print(x.shape, y.shape)\n",
        "    visualize_data(x, y)\n",
        "    visualize_boundary(w)\n",
        "    plt.xlabel('Ox')\n",
        "    plt.ylabel('Oy')"
      ],
      "metadata": {
        "id": "iATJmoGNHEOX"
      },
      "execution_count": 7,
      "outputs": []
    },
    {
      "cell_type": "code",
      "source": [
        "print('w = :', w.T)\n",
        "display_result(w, x, y) # show result"
      ],
      "metadata": {
        "colab": {
          "base_uri": "https://localhost:8080/",
          "height": 335
        },
        "id": "3H9g_z-MHMek",
        "outputId": "216b59dc-f43f-4c1f-fbd9-3b84f604b745"
      },
      "execution_count": 9,
      "outputs": [
        {
          "output_type": "stream",
          "name": "stdout",
          "text": [
            "w = : [[ 1.81053074 -3.19879721  3.80633094]]\n",
            "(40, 2) (40, 1)\n",
            "(3, 1)\n"
          ]
        },
        {
          "output_type": "display_data",
          "data": {
            "text/plain": [
              "<Figure size 432x288 with 1 Axes>"
            ],
            "image/png": "[encoded data removed]"
          },
          "metadata": {
            "needs_background": "light"
          }
        }
      ]
    }
  ]
}