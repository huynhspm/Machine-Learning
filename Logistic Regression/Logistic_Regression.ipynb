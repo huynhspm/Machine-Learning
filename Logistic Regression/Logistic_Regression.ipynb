{
  "nbformat": 4,
  "nbformat_minor": 0,
  "metadata": {
    "colab": {
      "name": "Logistic_Regression.ipynb",
      "provenance": [],
      "collapsed_sections": [],
      "toc_visible": true,
      "include_colab_link": true
    },
    "kernelspec": {
      "name": "python3",
      "display_name": "Python 3"
    },
    "language_info": {
      "name": "python"
    }
  },
  "cells": [
    {
      "cell_type": "markdown",
      "metadata": {
        "id": "view-in-github",
        "colab_type": "text"
      },
      "source": [
        "<a href=\"https://colab.research.google.com/github/huynhspm/Machine_Learning/blob/main/Logistic%20Regression/Logistic_Regression.ipynb\" target=\"_parent\"><img src=\"https://colab.research.google.com/assets/colab-badge.svg\" alt=\"Open In Colab\"/></a>"
      ]
    },
    {
      "cell_type": "code",
      "source": [
        "!git clone https://github.com/huynhspm/Machine_Learning"
      ],
      "metadata": {
        "colab": {
          "base_uri": "https://localhost:8080/"
        },
        "id": "wy5gh2k3a2rk",
        "outputId": "3a457840-930b-420f-a4a8-eb95eacc4e41"
      },
      "execution_count": null,
      "outputs": [
        {
          "output_type": "stream",
          "name": "stdout",
          "text": [
            "Cloning into 'Machine_Learning'...\n",
            "remote: Enumerating objects: 36, done.\u001b[K\n",
            "remote: Counting objects: 100% (36/36), done.\u001b[K\n",
            "remote: Compressing objects: 100% (31/31), done.\u001b[K\n",
            "remote: Total 36 (delta 5), reused 27 (delta 3), pack-reused 0\u001b[K\n",
            "Unpacking objects: 100% (36/36), done.\n"
          ]
        }
      ]
    },
    {
      "cell_type": "code",
      "execution_count": null,
      "metadata": {
        "id": "u5RRpiSqPKW0"
      },
      "outputs": [],
      "source": [
        "# import thư viện\n",
        "import numpy as np\n",
        "import pandas as pd\n",
        "import matplotlib.pyplot as plt\n",
        "np.random.seed(0)"
      ]
    },
    {
      "cell_type": "code",
      "source": [
        "# Load data\n",
        "data = pd.read_csv('/content/Machine_Learning/Logistic Regression/Logistic_Regression.csv')\n",
        "\n",
        "print(data.head(5))\n",
        "\n",
        "# convert DataFrame to Numpy\n",
        "data = data.values"
      ],
      "metadata": {
        "colab": {
          "base_uri": "https://localhost:8080/"
        },
        "id": "jIp7w68DPdR2",
        "outputId": "201a61c6-7e16-4873-c2d9-199af8aa30d8"
      },
      "execution_count": null,
      "outputs": [
        {
          "output_type": "stream",
          "name": "stdout",
          "text": [
            "   Lương  Thời gian làm việc  Cho vay\n",
            "0     10                 1.0        1\n",
            "1      5                 2.0        1\n",
            "2      6                 1.8        1\n",
            "3      7                 1.0        1\n",
            "4      8                 2.0        1\n"
          ]
        }
      ]
    },
    {
      "cell_type": "code",
      "source": [
        "N, d = data.shape\n",
        "x = data[:, 0 : d - 1].reshape(-1, d-1)\n",
        "y = data[:, 2].reshape(-1, 1)\n",
        "\n",
        "print(x.shape, y.shape)"
      ],
      "metadata": {
        "colab": {
          "base_uri": "https://localhost:8080/"
        },
        "id": "RTkF7mDTQPQI",
        "outputId": "494f4569-5e3c-46cd-d1b2-afb6d136eb3e"
      },
      "execution_count": null,
      "outputs": [
        {
          "output_type": "stream",
          "name": "stdout",
          "text": [
            "(20, 2) (20, 1)\n"
          ]
        }
      ]
    },
    {
      "cell_type": "code",
      "source": [
        "# plot data by scatter\n",
        "x_cho_vay = x[y[:,0]==1]\n",
        "x_tu_choi = x[y[:,0]==0]\n",
        "\n",
        "plt.scatter(x_cho_vay[:, 0], x_cho_vay[:, 1], c='red', edgecolors='none', s=30, label='cho vay')\n",
        "plt.scatter(x_tu_choi[:, 0], x_tu_choi[:, 1], c='blue', edgecolors='none', s=30, label='từ chối')\n",
        "plt.legend(loc=1)\n",
        "plt.xlabel('mức lương (triệu)')\n",
        "plt.ylabel('kinh nghiệm (năm)')"
      ],
      "metadata": {
        "colab": {
          "base_uri": "https://localhost:8080/",
          "height": 297
        },
        "id": "2HbLRImNQi9x",
        "outputId": "67a7c809-46ec-4d82-81e5-e73381a2f551"
      },
      "execution_count": null,
      "outputs": [
        {
          "output_type": "execute_result",
          "data": {
            "text/plain": [
              "Text(0, 0.5, 'kinh nghiệm (năm)')"
            ]
          },
          "metadata": {},
          "execution_count": 31
        },
        {
          "output_type": "display_data",
          "data": {
            "text/plain": [
              "<Figure size 432x288 with 1 Axes>"
            ],
            "image/png": "[encoded data removed]"
          },
          "metadata": {
            "needs_background": "light"
          }
        }
      ]
    },
    {
      "cell_type": "code",
      "source": [
        "# Add a column-bias (full 1) to x\n",
        "X = np.concatenate((np.ones((N, 1)), x), axis = 1)\n",
        "\n",
        "# initial value of parameter\n",
        "w = np.array([0., 0.1, 0.1]).reshape(-1, 1)\n",
        "\n",
        "print(X.shape)\n",
        "print(w.shape)"
      ],
      "metadata": {
        "id": "zLzOJyX8Q8sQ",
        "colab": {
          "base_uri": "https://localhost:8080/"
        },
        "outputId": "90de20b6-330b-4d5d-eaf8-e2346d08b18b"
      },
      "execution_count": null,
      "outputs": [
        {
          "output_type": "stream",
          "name": "stdout",
          "text": [
            "(20, 3)\n",
            "(3, 1)\n"
          ]
        }
      ]
    },
    {
      "cell_type": "code",
      "source": [
        "# sigmoid function\n",
        "def sigmoid(x):\n",
        "    return 1 / (1 + np.exp(-x))\n",
        "\n",
        "# predict\n",
        "def predict(x, w):\n",
        "    return sigmoid(np.dot(X, w))\n",
        "\n",
        "# calculate gradient\n",
        "def grad(x, y_predict, y):\n",
        "    return np.dot(x.T, y_predict - y)\t \n",
        "\n",
        "# calculate loss function\n",
        "def loss(y_predict, y):\n",
        "    #cross_entropy\n",
        "    error = np.multiply(y, np.log(y_predict)) + np.multiply(1-y, np.log(1-y_predict))\n",
        "    return -np.sum(error)\n",
        "\n",
        "def RMSELoss(y_predict, y):\n",
        "    N = y.shape[0]\n",
        "    rmse = np.sum((y_predict - y) ** 2)\n",
        "    rmse = np.sqrt(rmse / N)\n",
        "    return rmse"
      ],
      "metadata": {
        "id": "hspJ-sjoPY-e"
      },
      "execution_count": null,
      "outputs": []
    },
    {
      "cell_type": "code",
      "source": [
        "# number of iteration of gradient descent\n",
        "numOfIteration = 1000\n",
        "cost = []\n",
        "rmseLoss = []\n",
        "learning_rate = 0.01\n",
        "\n",
        "for i in range(1, numOfIteration):\n",
        "    \n",
        "\t # calculate predicted value\n",
        "    y_predict = predict(X, w)\n",
        "                        \n",
        "    cost.append(loss(y_predict, y))\n",
        "    rmseLoss.append(RMSELoss(y_predict, y))\n",
        "\n",
        "    # calculate Gradient descent\n",
        "    w = w - learning_rate * grad(X, y_predict, y)"
      ],
      "metadata": {
        "id": "YQR8lJfeRe5G"
      },
      "execution_count": null,
      "outputs": []
    },
    {
      "cell_type": "code",
      "source": [
        "x_cho_vay = x[y[:,0]==1]\n",
        "x_tu_choi = x[y[:,0]==0]\n",
        "\n",
        "# plot boundary\n",
        "\n",
        "xm = np.arange(3, 11, 0.025)\n",
        "ym = np.arange(0, 4, 0.025)\n",
        "\n",
        "xm, ym = np.meshgrid(xm, ym)\n",
        "zm = w[0] + w[1] * xm + w[2] * ym\n",
        "\n",
        "CS = plt.contourf(xm, ym, zm, 200, cmap='jet')\n",
        "\n",
        "# plot data points\n",
        "\n",
        "plt.scatter(x_cho_vay[:, 0], x_cho_vay[:, 1], c='red', edgecolors='black', s=50, label='cho vay')\n",
        "plt.scatter(x_tu_choi[:, 0], x_tu_choi[:, 1], c='blue', edgecolors='black', s=50, label='từ chối')\n",
        "plt.legend(loc=1)\n",
        "plt.xlabel('mức lương (triệu)')\n",
        "plt.ylabel('kinh nghiệm (năm)')\n",
        "\n",
        "plt.show()"
      ],
      "metadata": {
        "colab": {
          "base_uri": "https://localhost:8080/",
          "height": 280
        },
        "id": "4MWefiAfRwcc",
        "outputId": "a302a2ed-4d08-4481-ecdc-e842ae160332"
      },
      "execution_count": null,
      "outputs": [
        {
          "output_type": "display_data",
          "data": {
            "text/plain": [
              "<Figure size 432x288 with 1 Axes>"
            ],
            "image/png": "[encoded data removed]"
          },
          "metadata": {
            "needs_background": "light"
          }
        }
      ]
    },
    {
      "cell_type": "code",
      "source": [
        "# plot loss function over iterators\n",
        "arr = [i for i in range(len(cost))]\n",
        "arr = np.array([arr]).T\n",
        "plt.plot(arr, cost, 'b')\n",
        "plt.show()\n"
      ],
      "metadata": {
        "colab": {
          "base_uri": "https://localhost:8080/",
          "height": 265
        },
        "id": "YSUhB4OcRzg-",
        "outputId": "44abdb67-d9ea-4a6c-ddd6-7b7e1f7df7a1"
      },
      "execution_count": null,
      "outputs": [
        {
          "output_type": "display_data",
          "data": {
            "text/plain": [
              "<Figure size 432x288 with 1 Axes>"
            ],
            "image/png": "[encoded data removed]"
          },
          "metadata": {
            "needs_background": "light"
          }
        }
      ]
    },
    {
      "cell_type": "code",
      "source": [
        "# plot RMSEloss function over iterators\n",
        "plt.plot(rmseLoss)\n",
        "plt.xlabel('epoch')\n",
        "plt.ylabel('rmseLoss')"
      ],
      "metadata": {
        "colab": {
          "base_uri": "https://localhost:8080/",
          "height": 296
        },
        "id": "EZHXUEI0TZaZ",
        "outputId": "4bc77409-eed4-40c4-9717-95ef16f8eb07"
      },
      "execution_count": null,
      "outputs": [
        {
          "output_type": "execute_result",
          "data": {
            "text/plain": [
              "Text(0, 0.5, 'rmseLoss')"
            ]
          },
          "metadata": {},
          "execution_count": 38
        },
        {
          "output_type": "display_data",
          "data": {
            "text/plain": [
              "<Figure size 432x288 with 1 Axes>"
            ],
            "image/png": "[encoded data removed]"
          },
          "metadata": {
            "needs_background": "light"
          }
        }
      ]
    }
  ]
}