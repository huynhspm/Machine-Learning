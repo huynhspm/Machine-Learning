{
  "cells": [
    {
      "cell_type": "markdown",
      "metadata": {
        "id": "view-in-github",
        "colab_type": "text"
      },
      "source": [
        "<a href=\"https://colab.research.google.com/github/huynhspm/Basic_ML/blob/main/Neural%20Network/NN.ipynb\" target=\"_parent\"><img src=\"https://colab.research.google.com/assets/colab-badge.svg\" alt=\"Open In Colab\"/></a>"
      ]
    },
    {
      "cell_type": "code",
      "execution_count": 8,
      "metadata": {
        "id": "XinsG3rEKyfJ"
      },
      "outputs": [],
      "source": [
        "# 1. Thêm các thư viện cần thiết\n",
        "import numpy as np\n",
        "import matplotlib.pyplot as plt\n",
        "import tensorflow as tf\n",
        "from tensorflow import keras\n",
        "from keras.datasets import mnist\n",
        "from keras.models import Sequential\n",
        "from keras.layers import Dense, Activation, Flatten\n",
        "from keras.utils import np_utils\n",
        "\n",
        "np.random.seed(2)"
      ]
    },
    {
      "cell_type": "code",
      "execution_count": 9,
      "metadata": {
        "id": "KWGLrCELN9uH"
      },
      "outputs": [],
      "source": [
        "def visualize_data(X, y):\n",
        "    X0 = X[y == 0, :]\n",
        "    X1 = X[y == 1, :]\n",
        "    X2 = X[y == 2, :]\n",
        "\n",
        "    plt.plot(X0[:, 0], X0[:, 1], 'bs', markersize = 7)\n",
        "    plt.plot(X1[:, 0], X1[:, 1], 'g^', markersize = 7)\n",
        "    plt.plot(X2[:, 0], X2[:, 1], 'ro', markersize = 7)"
      ]
    },
    {
      "cell_type": "code",
      "execution_count": 10,
      "metadata": {
        "colab": {
          "base_uri": "https://localhost:8080/",
          "height": 265
        },
        "id": "d_VxCttGOE3X",
        "outputId": "146be784-422e-45ca-9174-9bec68ef3f11"
      },
      "outputs": [
        {
          "output_type": "display_data",
          "data": {
            "text/plain": [
              "<Figure size 432x288 with 1 Axes>"
            ],
            "image/png": "[encoded data removed]"
          },
          "metadata": {
            "needs_background": "light"
          }
        }
      ],
      "source": [
        "N = 100\n",
        "number_labels = 3\n",
        "input_layer_size = 2\n",
        "X = np.zeros((N * number_labels, input_layer_size))\n",
        "y = np.zeros(N * number_labels, dtype='uint8')\n",
        "\n",
        "for j in range(number_labels):\n",
        "    ix = range(N*j,N*(j+1))\n",
        "    r = np.linspace(0.0,1,N) # radius\n",
        "    t = np.linspace(j*4,(j+1)*4,N) + np.random.randn(N)*0.2 # theta\n",
        "    X[ix, :] = np.c_[r*np.sin(t), r*np.cos(t)]\n",
        "    y[ix] = j\n",
        "\n",
        "visualize_data(X, y)"
      ]
    },
    {
      "cell_type": "code",
      "execution_count": 11,
      "metadata": {
        "id": "nZjbe0J6UCsh",
        "colab": {
          "base_uri": "https://localhost:8080/"
        },
        "outputId": "49ed7874-e86e-4844-e4cb-9220a6b3ed40"
      },
      "outputs": [
        {
          "output_type": "stream",
          "name": "stdout",
          "text": [
            "Model: \"sequential_1\"\n",
            "_________________________________________________________________\n",
            " Layer (type)                Output Shape              Param #   \n",
            "=================================================================\n",
            " dense_2 (Dense)             (None, 100)               300       \n",
            "                                                                 \n",
            " flatten_1 (Flatten)         (None, 100)               0         \n",
            "                                                                 \n",
            " dense_3 (Dense)             (None, 3)                 303       \n",
            "                                                                 \n",
            "=================================================================\n",
            "Total params: 603\n",
            "Trainable params: 603\n",
            "Non-trainable params: 0\n",
            "_________________________________________________________________\n"
          ]
        }
      ],
      "source": [
        "model = Sequential()\n",
        "model.add(Dense(100, activation=\"sigmoid\", input_shape=(2, )))\n",
        "model.add(Flatten())\n",
        "model.add(Dense(3, activation=\"softmax\"))\n",
        "\n",
        "model.summary()"
      ]
    },
    {
      "cell_type": "code",
      "execution_count": 18,
      "metadata": {
        "colab": {
          "base_uri": "https://localhost:8080/"
        },
        "id": "AeBwobDG0UfL",
        "outputId": "9d4090c2-2ee8-4308-f0fd-8e94f6b8d81e"
      },
      "outputs": [
        {
          "output_type": "stream",
          "name": "stdout",
          "text": [
            "Epoch 1/20\n",
            "10/10 [==============================] - 0s 2ms/step - loss: 0.0988 - accuracy: 0.9700\n",
            "Epoch 2/20\n",
            "10/10 [==============================] - 0s 2ms/step - loss: 0.0654 - accuracy: 0.9767\n",
            "Epoch 3/20\n",
            "10/10 [==============================] - 0s 3ms/step - loss: 0.0283 - accuracy: 0.9900\n",
            "Epoch 4/20\n",
            "10/10 [==============================] - 0s 2ms/step - loss: 0.0765 - accuracy: 0.9833\n",
            "Epoch 5/20\n",
            "10/10 [==============================] - 0s 2ms/step - loss: 0.0453 - accuracy: 0.9833\n",
            "Epoch 6/20\n",
            "10/10 [==============================] - 0s 3ms/step - loss: 0.0642 - accuracy: 0.9800\n",
            "Epoch 7/20\n",
            "10/10 [==============================] - 0s 3ms/step - loss: 0.0598 - accuracy: 0.9900\n",
            "Epoch 8/20\n",
            "10/10 [==============================] - 0s 3ms/step - loss: 0.1386 - accuracy: 0.9833\n",
            "Epoch 9/20\n",
            "10/10 [==============================] - 0s 3ms/step - loss: 0.1004 - accuracy: 0.9867\n",
            "Epoch 10/20\n",
            "10/10 [==============================] - 0s 3ms/step - loss: 0.0163 - accuracy: 0.9933\n",
            "Epoch 11/20\n",
            "10/10 [==============================] - 0s 3ms/step - loss: 0.0274 - accuracy: 0.9900\n",
            "Epoch 12/20\n",
            "10/10 [==============================] - 0s 2ms/step - loss: 0.0775 - accuracy: 0.9900\n",
            "Epoch 13/20\n",
            "10/10 [==============================] - 0s 2ms/step - loss: 0.0143 - accuracy: 0.9933\n",
            "Epoch 14/20\n",
            "10/10 [==============================] - 0s 2ms/step - loss: 0.0225 - accuracy: 0.9867\n",
            "Epoch 15/20\n",
            "10/10 [==============================] - 0s 3ms/step - loss: 0.0249 - accuracy: 0.9900\n",
            "Epoch 16/20\n",
            "10/10 [==============================] - 0s 3ms/step - loss: 0.0196 - accuracy: 0.9933\n",
            "Epoch 17/20\n",
            "10/10 [==============================] - 0s 4ms/step - loss: 0.0185 - accuracy: 0.9933\n",
            "Epoch 18/20\n",
            "10/10 [==============================] - 0s 3ms/step - loss: 0.0186 - accuracy: 0.9933\n",
            "Epoch 19/20\n",
            "10/10 [==============================] - 0s 3ms/step - loss: 0.0224 - accuracy: 0.9967\n",
            "Epoch 20/20\n",
            "10/10 [==============================] - 0s 3ms/step - loss: 0.0260 - accuracy: 0.9900\n"
          ]
        }
      ],
      "source": [
        "model.compile(loss='sparse_categorical_crossentropy', optimizer=keras.optimizers.Adam(learning_rate=0.5), metrics=['accuracy'])\n",
        "H = model.fit(X, y, epochs = 20)"
      ]
    },
    {
      "cell_type": "code",
      "execution_count": 19,
      "metadata": {
        "id": "xt3ZZgRd0jon"
      },
      "outputs": [],
      "source": [
        "def display_result(model, X, y):\n",
        "    visualize_data(X, y)\n",
        "    visualize_model(model)\n",
        "    plt.xlabel('Ox')\n",
        "    plt.ylabel('Oy')\n",
        "    plt.show()\n",
        "    \n",
        "def visualize_model(model):\n",
        "    x1 = np.arange(-1.5, 1.5, 0.025)\n",
        "    x2 = np.arange(-1.5, 1.5, 0.025)\n",
        "    x1, x2 = np.meshgrid(x1, x2)\n",
        "    \n",
        "    xx1 = x1.ravel().reshape(x1.size, 1)\n",
        "    xx2 = x2.ravel().reshape(x2.size, 1)\n",
        "    \n",
        "    X = np.concatenate((xx1, xx2), axis = 1)\n",
        "    y = model.predict(X)\n",
        "    y = np.argmax(y, axis = 1)\n",
        "    y = y.reshape(x1.shape)\n",
        "\n",
        "\n",
        "    plt.contourf(x1, x2, y, 200, cmap='jet', alpha = .1)"
      ]
    },
    {
      "cell_type": "code",
      "execution_count": 20,
      "metadata": {
        "colab": {
          "base_uri": "https://localhost:8080/",
          "height": 279
        },
        "id": "gKLR_xiT0oLA",
        "outputId": "1aa256a7-b020-4af8-a7bc-6b95c9246133"
      },
      "outputs": [
        {
          "output_type": "display_data",
          "data": {
            "text/plain": [
              "<Figure size 432x288 with 1 Axes>"
            ],
            "image/png": "[encoded data removed]"
          },
          "metadata": {
            "needs_background": "light"
          }
        }
      ],
      "source": [
        "display_result(model, X, y)"
      ]
    }
  ],
  "metadata": {
    "colab": {
      "collapsed_sections": [],
      "name": "NN.ipynb",
      "toc_visible": true,
      "provenance": [],
      "include_colab_link": true
    },
    "kernelspec": {
      "display_name": "Python 3",
      "name": "python3"
    },
    "language_info": {
      "name": "python"
    },
    "gpuClass": "standard"
  },
  "nbformat": 4,
  "nbformat_minor": 0
}