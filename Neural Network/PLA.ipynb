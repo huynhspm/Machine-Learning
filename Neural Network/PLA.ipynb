{
  "cells": [
    {
      "cell_type": "markdown",
      "metadata": {
        "id": "view-in-github",
        "colab_type": "text"
      },
      "source": [
        "<a href=\"https://colab.research.google.com/github/huynhspm/Basic_ML/blob/main/Neural%20Network/PLA.ipynb\" target=\"_parent\"><img src=\"https://colab.research.google.com/assets/colab-badge.svg\" alt=\"Open In Colab\"/></a>"
      ]
    },
    {
      "cell_type": "code",
      "execution_count": null,
      "id": "6ecdb994",
      "metadata": {
        "id": "6ecdb994"
      },
      "outputs": [],
      "source": [
        "# Hai classes là linearly separable"
      ]
    },
    {
      "cell_type": "code",
      "execution_count": null,
      "id": "93f86c02",
      "metadata": {
        "id": "93f86c02"
      },
      "outputs": [],
      "source": [
        "import numpy as np\n",
        "import matplotlib.pyplot as plt\n",
        "from sklearn.linear_model import LogisticRegression \n",
        "\n",
        "np.random.seed(2)"
      ]
    },
    {
      "cell_type": "code",
      "execution_count": null,
      "id": "9f9a4b59",
      "metadata": {
        "id": "9f9a4b59"
      },
      "outputs": [],
      "source": [
        "def visualize_data(X, y):\n",
        "    X0 = X[y == -1, :]\n",
        "    X1 = X[y == 1, :]\n",
        "    \n",
        "    plt.plot(X0[:, 0], X0[:, 1], 'g^', markersize = 7)\n",
        "    plt.plot(X1[:, 0], X1[:, 1], 'bs', markersize = 7)\n",
        "    plt.axis([0.5, 5.5, 0.5, 3.5])\n",
        "    plt.xlabel('x1')\n",
        "    plt.ylabel('x2')"
      ]
    },
    {
      "cell_type": "code",
      "execution_count": null,
      "id": "e3ac5a39",
      "metadata": {
        "id": "e3ac5a39",
        "outputId": "f80095db-3cd3-49b7-f4d8-4447555b058e"
      },
      "outputs": [
        {
          "data": {
            "image/png": "[encoded data removed]",
            "text/plain": [
              "<Figure size 432x288 with 1 Axes>"
            ]
          },
          "metadata": {
            "needs_background": "light"
          },
          "output_type": "display_data"
        }
      ],
      "source": [
        "means = [[2, 2], [4, 2]]\n",
        "cov = [[.3, .2], [.2, .3]]\n",
        "m = 20  # number of points per class\n",
        "X0 = np.random.multivariate_normal(means[0], cov, m) # class -1 \n",
        "X1 = np.random.multivariate_normal(means[1], cov, m) # class 1 \n",
        "\n",
        "X = np.concatenate((X0, X1), axis = 0) # all data\n",
        "y = np.array([-1] * m + [1] * m) # labels \n",
        "visualize_data(X, y)"
      ]
    },
    {
      "cell_type": "code",
      "execution_count": null,
      "id": "e4633fb9",
      "metadata": {
        "id": "e4633fb9",
        "outputId": "2bfa8ed9-90f0-4595-de13-649d8e79f2d1"
      },
      "outputs": [
        {
          "data": {
            "text/plain": [
              "LogisticRegression(C=100000.0)"
            ]
          },
          "execution_count": 12,
          "metadata": {},
          "output_type": "execute_result"
        }
      ],
      "source": [
        "model = LogisticRegression(C = 1e5)\n",
        "model.fit(X, y)"
      ]
    },
    {
      "cell_type": "code",
      "execution_count": null,
      "id": "0f639212",
      "metadata": {
        "id": "0f639212"
      },
      "outputs": [],
      "source": [
        "def visualize_boundary(model):\n",
        "    w = model.coef_\n",
        "    b = model.intercept_\n",
        "    \n",
        "    x = np.arange(1, 6, 1)\n",
        "    y = -(w[0, 0]*x + b)/w[0, 1]\n",
        "    plt.plot(x, y, linewidth = 3)\n",
        "    \n",
        "def display_result(model, X, y):\n",
        "    visualize_data(X, y)\n",
        "    visualize_boundary(model)\n",
        "    plt.xlabel('Ox')\n",
        "    plt.ylabel('Oy')"
      ]
    },
    {
      "cell_type": "code",
      "execution_count": null,
      "id": "f2dbb279",
      "metadata": {
        "id": "f2dbb279",
        "outputId": "7152bc33-49aa-483a-8646-0e07a628acf2"
      },
      "outputs": [
        {
          "name": "stdout",
          "output_type": "stream",
          "text": [
            "w =  [[ 19.63354079 -13.14013837]]\n",
            "b =  [-33.35626496]\n"
          ]
        },
        {
          "data": {
            "image/png": "[encoded data removed]",
            "text/plain": [
              "<Figure size 432x288 with 1 Axes>"
            ]
          },
          "metadata": {
            "needs_background": "light"
          },
          "output_type": "display_data"
        }
      ],
      "source": [
        "print('w = ', model.coef_)\n",
        "print('b = ', model.intercept_)\n",
        "display_result(model, X, y)"
      ]
    },
    {
      "cell_type": "code",
      "execution_count": null,
      "id": "442d537d",
      "metadata": {
        "id": "442d537d"
      },
      "outputs": [],
      "source": [
        ""
      ]
    }
  ],
  "metadata": {
    "interpreter": {
      "hash": "a42ccb73e7d9bfdf27e036f1d2b8b681e55fc0743cc5586bc2474d4a60f4b886"
    },
    "kernelspec": {
      "display_name": "Python 3 (ipykernel)",
      "language": "python",
      "name": "python3"
    },
    "language_info": {
      "codemirror_mode": {
        "name": "ipython",
        "version": 3
      },
      "file_extension": ".py",
      "mimetype": "text/x-python",
      "name": "python",
      "nbconvert_exporter": "python",
      "pygments_lexer": "ipython3",
      "version": "3.10.1"
    },
    "colab": {
      "name": "PLA.ipynb",
      "provenance": [],
      "include_colab_link": true
    }
  },
  "nbformat": 4,
  "nbformat_minor": 5
}