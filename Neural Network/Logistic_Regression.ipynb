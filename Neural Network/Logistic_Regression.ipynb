{
  "cells": [
    {
      "cell_type": "markdown",
      "metadata": {
        "id": "view-in-github",
        "colab_type": "text"
      },
      "source": [
        "<a href=\"https://colab.research.google.com/github/huynhspm/Basic_ML/blob/main/Neural%20Network/Logistic_Regression.ipynb\" target=\"_parent\"><img src=\"https://colab.research.google.com/assets/colab-badge.svg\" alt=\"Open In Colab\"/></a>"
      ]
    },
    {
      "cell_type": "code",
      "execution_count": null,
      "id": "e5d63a1c",
      "metadata": {
        "id": "e5d63a1c"
      },
      "outputs": [],
      "source": [
        "# Hai classes là gần linearly separable"
      ]
    },
    {
      "cell_type": "code",
      "execution_count": null,
      "id": "d404705d",
      "metadata": {
        "id": "d404705d"
      },
      "outputs": [],
      "source": [
        "import numpy as np \n",
        "import matplotlib.pyplot as plt\n",
        "from sklearn.linear_model import LogisticRegression   \n",
        "\n",
        "np.random.seed(22)"
      ]
    },
    {
      "cell_type": "code",
      "execution_count": null,
      "id": "00ebe8cf",
      "metadata": {
        "id": "00ebe8cf"
      },
      "outputs": [],
      "source": [
        "def visualize_data(X, y):\n",
        "    X0 = X[y == -1, :]\n",
        "    X1 = X[y == 1, :]\n",
        "    \n",
        "    plt.plot(X0[:, 0], X0[:, 1], 'g^', markersize = 7)\n",
        "    plt.plot(X1[:, 0], X1[:, 1], 'bs', markersize = 7)\n",
        "    plt.axis([1, 6, -1, 5])\n",
        "    plt.xlabel('x1')\n",
        "    plt.ylabel('x2')"
      ]
    },
    {
      "cell_type": "code",
      "execution_count": null,
      "id": "c590c360",
      "metadata": {
        "id": "c590c360",
        "outputId": "a7ab5f85-838e-4e08-c7d6-cc40ea1046d0",
        "colab": {
          "base_uri": "https://localhost:8080/",
          "height": 283
        }
      },
      "outputs": [
        {
          "output_type": "display_data",
          "data": {
            "text/plain": [
              "<Figure size 432x288 with 1 Axes>"
            ],
            "image/png": "[encoded data removed]"
          },
          "metadata": {
            "needs_background": "light"
          }
        }
      ],
      "source": [
        "means = [[2, 2], [4, 2]]\n",
        "cov = [[.7, 0], [0, .7]]\n",
        "m = 20  # number of points per class\n",
        "X0 = np.random.multivariate_normal(means[0], cov, m)  # class -1 \n",
        "X1 = np.random.multivariate_normal(means[1], cov, m)  # class 1 \n",
        "\n",
        "X = np.concatenate((X0, X1), axis = 0) # all data\n",
        "y = np.array([-1] * m + [1] * m) # labels \n",
        "visualize_data(X, y)"
      ]
    },
    {
      "cell_type": "code",
      "execution_count": null,
      "id": "a47cabbf",
      "metadata": {
        "id": "a47cabbf",
        "outputId": "06428f78-4d6a-44ff-9626-476f6e84093e",
        "colab": {
          "base_uri": "https://localhost:8080/"
        }
      },
      "outputs": [
        {
          "output_type": "execute_result",
          "data": {
            "text/plain": [
              "LogisticRegression(C=100000.0)"
            ]
          },
          "metadata": {},
          "execution_count": 5
        }
      ],
      "source": [
        "model = LogisticRegression(C = 1e5)\n",
        "model.fit(X, y)"
      ]
    },
    {
      "cell_type": "code",
      "execution_count": null,
      "id": "1690af84",
      "metadata": {
        "id": "1690af84"
      },
      "outputs": [],
      "source": [
        "def visualize_boundary(model):\n",
        "    w = model.coef_\n",
        "    b = model.intercept_\n",
        "    \n",
        "    x = np.arange(1, 6, 1)\n",
        "    y = -(w[0, 0]*x + b)/w[0, 1]\n",
        "    plt.plot(x, y, linewidth = 3)\n",
        "    \n",
        "def display_result(model, X, y):\n",
        "    visualize_data(X, y)\n",
        "    visualize_boundary(model)\n",
        "    plt.xlabel('Ox')\n",
        "    plt.ylabel('Oy')"
      ]
    },
    {
      "cell_type": "code",
      "execution_count": null,
      "id": "1d31ce93",
      "metadata": {
        "id": "1d31ce93",
        "outputId": "e2d8a63c-fcc2-4216-8cac-12a877ba398d",
        "colab": {
          "base_uri": "https://localhost:8080/",
          "height": 318
        }
      },
      "outputs": [
        {
          "output_type": "stream",
          "name": "stdout",
          "text": [
            "w =  [[2.8788242  1.87628194]]\n",
            "b =  [-11.93678094]\n"
          ]
        },
        {
          "output_type": "display_data",
          "data": {
            "text/plain": [
              "<Figure size 432x288 with 1 Axes>"
            ],
            "image/png": "[encoded data removed]"
          },
          "metadata": {
            "needs_background": "light"
          }
        }
      ],
      "source": [
        "print('w = ', model.coef_)\n",
        "print('b = ', model.intercept_)\n",
        "display_result(model, X, y)"
      ]
    }
  ],
  "metadata": {
    "kernelspec": {
      "display_name": "Python 3 (ipykernel)",
      "language": "python",
      "name": "python3"
    },
    "language_info": {
      "codemirror_mode": {
        "name": "ipython",
        "version": 3
      },
      "file_extension": ".py",
      "mimetype": "text/x-python",
      "name": "python",
      "nbconvert_exporter": "python",
      "pygments_lexer": "ipython3",
      "version": "3.10.1"
    },
    "colab": {
      "name": "Logistic_Regression.ipynb",
      "provenance": [],
      "toc_visible": true,
      "include_colab_link": true
    }
  },
  "nbformat": 4,
  "nbformat_minor": 5
}