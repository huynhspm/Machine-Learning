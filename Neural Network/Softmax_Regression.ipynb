{
  "cells": [
    {
      "cell_type": "markdown",
      "metadata": {
        "id": "view-in-github",
        "colab_type": "text"
      },
      "source": [
        "<a href=\"https://colab.research.google.com/github/huynhspm/Basic_ML/blob/main/Neural%20Network/Softmax_Regression.ipynb\" target=\"_parent\"><img src=\"https://colab.research.google.com/assets/colab-badge.svg\" alt=\"Open In Colab\"/></a>"
      ]
    },
    {
      "cell_type": "code",
      "execution_count": 1,
      "id": "667bc4d3",
      "metadata": {
        "id": "667bc4d3"
      },
      "outputs": [],
      "source": [
        "# Bài toán phân loại nhiều classes (biên là tuyến tính)"
      ]
    },
    {
      "cell_type": "code",
      "execution_count": 2,
      "id": "82d74363",
      "metadata": {
        "id": "82d74363"
      },
      "outputs": [],
      "source": [
        "import numpy as np\n",
        "import matplotlib.pyplot as plt\n",
        "from sklearn.linear_model import LogisticRegression \n",
        "\n",
        "np.random.seed(4)"
      ]
    },
    {
      "cell_type": "code",
      "execution_count": 3,
      "id": "22492276",
      "metadata": {
        "id": "22492276"
      },
      "outputs": [],
      "source": [
        "def visualize_data(X, y):\n",
        "    X0 = X[y == 0, :]\n",
        "    X1 = X[y == 1, :]\n",
        "    X2 = X[y == 2, :]\n",
        "\n",
        "    plt.plot(X0[:, 0], X0[:, 1], 'bs', markersize = 7)\n",
        "    plt.plot(X1[:, 0], X1[:, 1], 'g^', markersize = 7)\n",
        "    plt.plot(X2[:, 0], X2[:, 1], 'ro', markersize = 7)"
      ]
    },
    {
      "cell_type": "code",
      "execution_count": 4,
      "id": "3be19520",
      "metadata": {
        "id": "3be19520",
        "outputId": "efe8085c-a0ce-429a-f097-48e20c6f44ba",
        "colab": {
          "base_uri": "https://localhost:8080/",
          "height": 265
        }
      },
      "outputs": [
        {
          "output_type": "display_data",
          "data": {
            "text/plain": [
              "<Figure size 432x288 with 1 Axes>"
            ],
            "image/png": "[encoded data removed]"
          },
          "metadata": {
            "needs_background": "light"
          }
        }
      ],
      "source": [
        "N = 20\n",
        "means = [[-1, -1], [1, -1], [0, 1]]\n",
        "cov = [[1, 0], [0, 1]]\n",
        "X0 = np.random.multivariate_normal(means[0], cov, N)\n",
        "X1 = np.random.multivariate_normal(means[1], cov, N)\n",
        "X2 = np.random.multivariate_normal(means[2], cov, N)\n",
        "X = np.concatenate((X0, X1, X2), axis = 0)\n",
        "y = np.array([0]*N + [1]*N + [2]*N)\n",
        "\n",
        "visualize_data(X, y)"
      ]
    },
    {
      "cell_type": "code",
      "execution_count": 5,
      "id": "c1775f6d",
      "metadata": {
        "id": "c1775f6d",
        "outputId": "e3c88faf-8d9d-4410-f8ed-66132ea3a55d",
        "colab": {
          "base_uri": "https://localhost:8080/"
        }
      },
      "outputs": [
        {
          "output_type": "execute_result",
          "data": {
            "text/plain": [
              "LogisticRegression(C=100000.0, multi_class='multinomial')"
            ]
          },
          "metadata": {},
          "execution_count": 5
        }
      ],
      "source": [
        "model = LogisticRegression(C=1e5, solver = 'lbfgs', multi_class = 'multinomial')\n",
        "model.fit(X, y)"
      ]
    },
    {
      "cell_type": "code",
      "execution_count": 6,
      "id": "abea2fe9",
      "metadata": {
        "id": "abea2fe9"
      },
      "outputs": [],
      "source": [
        "def visualize_boundary(model):\n",
        "    x1 = np.arange(-4, 4, 0.025)\n",
        "    x2 = np.arange(-4, 4, 0.025)\n",
        "    x1, x2 = np.meshgrid(x1, x2)\n",
        "    \n",
        "    xx1 = x1.ravel().reshape(x1.size, 1)\n",
        "    xx2 = x2.ravel().reshape(x2.size, 1)\n",
        "    \n",
        "    X = np.concatenate((xx1, xx2), axis = 1)\n",
        "    y = model.predict(X)\n",
        "    y = y.reshape(x1.shape)\n",
        "    plt.contourf(x1, x2, y, 200, cmap='jet', alpha = .1)\n",
        "\n",
        "def display_result(model, X, y):\n",
        "    visualize_data(X, y)\n",
        "    visualize_boundary(model)"
      ]
    },
    {
      "cell_type": "code",
      "execution_count": 7,
      "id": "5942d53a",
      "metadata": {
        "id": "5942d53a",
        "outputId": "6554af9b-f7b9-45d0-b503-8929721783a4",
        "colab": {
          "base_uri": "https://localhost:8080/",
          "height": 265
        }
      },
      "outputs": [
        {
          "output_type": "display_data",
          "data": {
            "text/plain": [
              "<Figure size 432x288 with 1 Axes>"
            ],
            "image/png": "[encoded data removed]"
          },
          "metadata": {
            "needs_background": "light"
          }
        }
      ],
      "source": [
        "display_result(model, X, y)"
      ]
    },
    {
      "cell_type": "code",
      "execution_count": null,
      "id": "5909f9cf",
      "metadata": {
        "id": "5909f9cf"
      },
      "outputs": [],
      "source": [
        ""
      ]
    }
  ],
  "metadata": {
    "kernelspec": {
      "display_name": "Python 3 (ipykernel)",
      "language": "python",
      "name": "python3"
    },
    "language_info": {
      "codemirror_mode": {
        "name": "ipython",
        "version": 3
      },
      "file_extension": ".py",
      "mimetype": "text/x-python",
      "name": "python",
      "nbconvert_exporter": "python",
      "pygments_lexer": "ipython3",
      "version": "3.10.1"
    },
    "colab": {
      "name": "Softmax_Regression.ipynb",
      "provenance": [],
      "toc_visible": true,
      "include_colab_link": true
    }
  },
  "nbformat": 4,
  "nbformat_minor": 5
}