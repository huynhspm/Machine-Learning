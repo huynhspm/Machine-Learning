{
  "nbformat": 4,
  "nbformat_minor": 0,
  "metadata": {
    "colab": {
      "name": "Multi_Layer_Perceptron.ipynb",
      "provenance": [],
      "toc_visible": true,
      "collapsed_sections": [],
      "authorship_tag": "ABX9TyP5MEF4vL5C9iPgTbHztE5I",
      "include_colab_link": true
    },
    "kernelspec": {
      "name": "python3",
      "display_name": "Python 3"
    },
    "language_info": {
      "name": "python"
    }
  },
  "cells": [
    {
      "cell_type": "markdown",
      "metadata": {
        "id": "view-in-github",
        "colab_type": "text"
      },
      "source": [
        "<a href=\"https://colab.research.google.com/github/huynhspm/Machine_Learning/blob/main/Multi%20Layer%20Perceptron/Multi_Layer_Perceptron.ipynb\" target=\"_parent\"><img src=\"https://colab.research.google.com/assets/colab-badge.svg\" alt=\"Open In Colab\"/></a>"
      ]
    },
    {
      "cell_type": "code",
      "execution_count": 1,
      "metadata": {
        "id": "Z3dPq3piF0iK"
      },
      "outputs": [],
      "source": [
        "# import thư viện\n",
        "import numpy as np\n",
        "import matplotlib.pyplot as plt\n",
        "from scipy.sparse import coo_matrix\n",
        "\n",
        "np.random.seed(2)"
      ]
    },
    {
      "cell_type": "code",
      "source": [
        "# function to plot data points\n",
        "def visualize_data(X, y):\n",
        "    X0 = X[y == 0, :]\n",
        "    X1 = X[y == 1, :]\n",
        "    X2 = X[y == 2, :]\n",
        "\n",
        "    plt.plot(X0[:, 0], X0[:, 1], 'bs', markersize = 7)\n",
        "    plt.plot(X1[:, 0], X1[:, 1], 'g^', markersize = 7)\n",
        "    plt.plot(X2[:, 0], X2[:, 1], 'ro', markersize = 7)"
      ],
      "metadata": {
        "id": "Rt_h7tdFGMoz"
      },
      "execution_count": 2,
      "outputs": []
    },
    {
      "cell_type": "code",
      "source": [
        "N = 100 # number of training sample\n",
        "number_labels = 3 # number of classes \n",
        "input_layer_size = 2\n",
        "X = np.zeros((N * number_labels, input_layer_size))\n",
        "y = np.zeros(N * number_labels, dtype='uint8')\n",
        "\n",
        "# create data with non-linear boundary\n",
        "for j in range(number_labels):\n",
        "    ix = range(N*j,N*(j+1))\n",
        "    r = np.linspace(0.0,1,N) # radius\n",
        "    t = np.linspace(j*4,(j+1)*4,N) + np.random.randn(N)*0.2 # theta\n",
        "    X[ix, :] = np.c_[r*np.sin(t), r*np.cos(t)]  # data point in class j  \n",
        "    y[ix] = j   # label\n",
        "\n",
        "visualize_data(X, y)    # plot data"
      ],
      "metadata": {
        "colab": {
          "base_uri": "https://localhost:8080/",
          "height": 265
        },
        "id": "FV5J8Y_UGN38",
        "outputId": "d1a42aae-1854-4ba5-9fcc-54e37c9e62b2"
      },
      "execution_count": 3,
      "outputs": [
        {
          "output_type": "display_data",
          "data": {
            "text/plain": [
              "<Figure size 432x288 with 1 Axes>"
            ],
            "image/png": "[encoded data removed]"
          },
          "metadata": {
            "needs_background": "light"
          }
        }
      ]
    },
    {
      "cell_type": "code",
      "source": [
        "class NeuralNetwork:\n",
        "    # initialization function\n",
        "    def __init__(self, X: np, y: np, input_layer_size: int, hidden_layer_size: int, number_labels: int):\n",
        "        self.X = X\n",
        "        self.y = y\n",
        "        self.input_layer_size = input_layer_size\n",
        "        self.hidden_layer_size = hidden_layer_size\n",
        "        self.number_labels = number_labels\n",
        "        self.params = 0\n",
        "        self.error = []\n",
        "\n",
        "    # initial value of parameter \n",
        "    def initial_theta(self, n: int, m: int):\n",
        "        return np.random.rand(n, m)\n",
        "\n",
        "    # # Add a column-bias (full 1) to X\n",
        "    def extended_data(self, X: np):\n",
        "        # number of data point\n",
        "        m = X.shape[0]\n",
        "        one = np.ones((m, 1))\n",
        "        return np.concatenate((one, X), axis = 1)\n",
        "\n",
        "    # sigmoid function\n",
        "    def sigmoid(self, z):\n",
        "        return 1.0 / (1.0 + np.exp(-z))\n",
        "\n",
        "    # calculate gradient of sigmoid function\n",
        "    def sigmoidGradient(self, z):\n",
        "        g = self.sigmoid(z)\n",
        "        return g * (1 - g)\n",
        "\n",
        "    # convert labels to one hot coding\n",
        "    def convert_labels(self):\n",
        "        return coo_matrix((np.ones_like(self.y), (self.y, np.arange(len(self.y)))), shape = (self.number_labels, len(self.y))).toarray()\n",
        "\n",
        "    def convertParams2Theta(self, params):\n",
        "        Theta1 = params[:,:self.hidden_layer_size * (self.input_layer_size + 1)].reshape(self.hidden_layer_size, self.input_layer_size + 1)\n",
        "        Theta2 = params[:,self.hidden_layer_size * (self.input_layer_size + 1):].reshape(self.number_labels, self.hidden_layer_size + 1)\n",
        "        return [Theta1, Theta2]\n",
        "\n",
        "    def convertTheta2params(self, Theta1, Theta2):\n",
        "        Theta1 = Theta1.reshape(1, Theta1.shape[0] * Theta1.shape[1])\n",
        "        Theta2 = Theta2.reshape(1, Theta2.shape[0] * Theta2.shape[1])\n",
        "        params = np.concatenate((Theta1, Theta2), axis=1)\n",
        "        return params\n",
        "\n",
        "    # feedforward and backpropagation\n",
        "    def costFunction_grad(self, params):\n",
        "        [Theta1, Theta2] = self.convertParams2Theta(params)\n",
        "        m = self.X.shape[0]\n",
        "\n",
        "        X = self.extended_data(self.X)\n",
        "        Y = self.convert_labels().T\n",
        "\n",
        "        # feedforward\n",
        "        Z1 = X@Theta1.T\n",
        "        A1 = self.sigmoid(Z1)\n",
        "        A1 = self.extended_data(A1)\n",
        "        Z2 = A1@Theta2.T\n",
        "        A2 = self.sigmoid(Z2)\n",
        "\n",
        "        # loss function\n",
        "        J = np.sum(Y * np.log(A2) + (1 - Y) * np.log(1 - A2))\n",
        "        J = -J/m\n",
        "        \n",
        "        # back propagation\n",
        "        delta2 = A2 - Y\n",
        "        Theta2_grad = delta2.T@A1\n",
        "        delta1 = (delta2@Theta2) * (A1 * (1 - A1))\n",
        "        delta1 = delta1[:, 1:]\n",
        "        Theta1_grad = delta1.T@X\n",
        "        \n",
        "        grad = self.convertTheta2params(Theta1_grad, Theta2_grad)\n",
        "        grad /= m \n",
        "\n",
        "        return [J, grad]\n",
        "    \n",
        "    # function to train model \n",
        "    def train_model(self, learning_rate, max_count = 1e4):\n",
        "        Theta1 = self.initial_theta(self.hidden_layer_size, self.input_layer_size + 1)\n",
        "        Theta2 = self.initial_theta(self.number_labels, self.hidden_layer_size + 1)\n",
        "        params = self.convertTheta2params(Theta1, Theta2)\n",
        "        \n",
        "        count = 0\n",
        "        while count < max_count:\n",
        "            count += 1\n",
        "            [J, grad] = self.costFunction_grad(params)\n",
        "            params -= learning_rate * grad\n",
        "            if(count % 100 == 0):\n",
        "                self.error.append(J)\n",
        "                if(count % 1000 == 0):\n",
        "                    print(\"iter %d, loss: %f\" %(count, J))\n",
        "\n",
        "        self.params = params\n",
        "    \n",
        "    # function to predict labels for data points\n",
        "    def predict(self, X):\n",
        "        [Theta1, Theta2] = self.convertParams2Theta(self.params)\n",
        "        X = self.extended_data(X)\n",
        "\n",
        "        Z1 = X@Theta1.T\n",
        "        A1 = self.sigmoid(Z1)\n",
        "        A1 = self.extended_data(A1)\n",
        "        Z2 = A1@Theta2.T\n",
        "        A2 = self.sigmoid(Z2)\n",
        "        \n",
        "        Y_pred = np.argmax(A2, axis = 1)\n",
        "        return Y_pred"
      ],
      "metadata": {
        "id": "KKQLCmS9GQWZ"
      },
      "execution_count": 4,
      "outputs": []
    },
    {
      "cell_type": "code",
      "source": [
        "input_layer_size = 2\n",
        "hidden_layer_size = 100\n",
        "number_labels = 3\n",
        "# initialization model\n",
        "model = NeuralNetwork(X, y, input_layer_size, hidden_layer_size, number_labels)\n",
        "model.train_model(1)    # train model"
      ],
      "metadata": {
        "colab": {
          "base_uri": "https://localhost:8080/"
        },
        "id": "FUNDtbhkGWLf",
        "outputId": "05c50acf-340e-4e80-b47b-32ba0a63bd92"
      },
      "execution_count": 5,
      "outputs": [
        {
          "output_type": "stream",
          "name": "stderr",
          "text": [
            "/usr/local/lib/python3.7/dist-packages/ipykernel_launcher.py:63: RuntimeWarning: divide by zero encountered in log\n"
          ]
        },
        {
          "output_type": "stream",
          "name": "stdout",
          "text": [
            "iter 1000, loss: 0.861036\n",
            "iter 2000, loss: 0.330707\n",
            "iter 3000, loss: 0.208319\n",
            "iter 4000, loss: 0.153333\n",
            "iter 5000, loss: 0.122860\n",
            "iter 6000, loss: 0.103746\n",
            "iter 7000, loss: 0.091085\n",
            "iter 8000, loss: 0.082127\n",
            "iter 9000, loss: 0.075389\n",
            "iter 10000, loss: 0.070082\n"
          ]
        }
      ]
    },
    {
      "cell_type": "code",
      "source": [
        "def display_result(model, X, y):\n",
        "    visualize_data(X, y)\n",
        "    visualize_model(model)\n",
        "    plt.xlabel('Ox')\n",
        "    plt.ylabel('Oy')\n",
        "    plt.show()\n",
        "\n",
        "# function to plot boundary of three classes    \n",
        "def visualize_model(model):\n",
        "    x1 = np.arange(-1.5, 1.5, 0.025)\n",
        "    x2 = np.arange(-1.5, 1.5, 0.025)\n",
        "    x1, x2 = np.meshgrid(x1, x2)\n",
        "    \n",
        "    xx1 = x1.ravel().reshape(x1.size, 1)\n",
        "    xx2 = x2.ravel().reshape(x2.size, 1)\n",
        "    \n",
        "    X = np.concatenate((xx1, xx2), axis = 1)\n",
        "    y = model.predict(X)\n",
        "    y = y.reshape(x1.shape)\n",
        "    plt.contourf(x1, x2, y, 200, cmap='jet', alpha = .1)"
      ],
      "metadata": {
        "id": "zoG0w76XGfBh"
      },
      "execution_count": 6,
      "outputs": []
    },
    {
      "cell_type": "code",
      "source": [
        "display_result(model, X, y) # show result"
      ],
      "metadata": {
        "id": "p9rLFHT7GgxL",
        "outputId": "31269891-e0a6-48c8-ebfa-6a29f4f3b7b1",
        "colab": {
          "base_uri": "https://localhost:8080/",
          "height": 279
        }
      },
      "execution_count": 7,
      "outputs": [
        {
          "output_type": "display_data",
          "data": {
            "text/plain": [
              "<Figure size 432x288 with 1 Axes>"
            ],
            "image/png": "[encoded data removed]"
          },
          "metadata": {
            "needs_background": "light"
          }
        }
      ]
    },
    {
      "cell_type": "code",
      "source": [
        "# plot loss function over iterators\n",
        "plt.plot(model.error)\n",
        "plt.xlabel('epoch')\n",
        "plt.ylabel('rmseLoss')"
      ],
      "metadata": {
        "colab": {
          "base_uri": "https://localhost:8080/",
          "height": 296
        },
        "id": "trUjKZEroDKZ",
        "outputId": "c62191ec-c6bd-4e54-ccf4-0e8f658bcbf7"
      },
      "execution_count": 8,
      "outputs": [
        {
          "output_type": "execute_result",
          "data": {
            "text/plain": [
              "Text(0, 0.5, 'rmseLoss')"
            ]
          },
          "metadata": {},
          "execution_count": 8
        },
        {
          "output_type": "display_data",
          "data": {
            "text/plain": [
              "<Figure size 432x288 with 1 Axes>"
            ],
            "image/png": "[encoded data removed]"
          },
          "metadata": {
            "needs_background": "light"
          }
        }
      ]
    }
  ]
}